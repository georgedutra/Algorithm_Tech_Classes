{
 "cells": [
  {
   "cell_type": "code",
   "execution_count": 235,
   "id": "0cf521a1-6dbe-4e99-908f-5066d4bb2d32",
   "metadata": {
    "tags": []
   },
   "outputs": [],
   "source": [
    "%matplotlib inline\n",
    "import pandas as pd\n",
    "import numpy as np\n",
    "import matplotlib.pyplot as plt\n",
    "import seaborn as sns\n",
    "from sklearn.model_selection import train_test_split\n",
    "from sklearn.linear_model import Lasso, ElasticNet\n",
    "from sklearn.metrics import mean_squared_error"
   ]
  },
  {
   "cell_type": "markdown",
   "id": "642edfed-44f8-4246-9669-f69d2d37dc11",
   "metadata": {},
   "source": [
    "# Linear Regression\n",
    "\n",
    "In this lab, we are going to continue to explore linear regression and introduce the concept of regularisation, specifically, Ridge Regression, Lasso and Elastic Net.\n",
    "\n"
   ]
  },
  {
   "cell_type": "markdown",
   "id": "24b34bcd-e75e-4a35-bfa5-7f4b3ad8f0df",
   "metadata": {},
   "source": [
    "### Load the housing dataset\n",
    "\n",
    "Using pandas, load the following dataset (available in eclass, taken from http://www.cs.toronto.edu/~delve/data/boston/bostonDetail.html):\n",
    "\n",
    "**Housing.txt:** this dataset is constituted by 506 points in 14 dimensions. Each point represents a house in the Boston area, and the 14 attributes that you find orderly in each column are the following:\n",
    "* `CRIM` - per capita crime rate by town\n",
    "* `ZN` - proportion of residential land zoned for lots over 25,000 sq.ft.\n",
    "* `INDUS` - proportion of non-retail business acres per town.\n",
    "* `CHAS` - Charles River dummy variable (1 if tract bounds river; 0 otherwise) \n",
    "* `NOX` - nitric oxides concentration (parts per 10 million)\n",
    "* `RM` - average number of rooms per dwelling\n",
    "* `AGE` - proportion of owner-occupied units built prior to 1940\n",
    "* `DIS` - weighted distances to five Boston employment centres\n",
    "* `RAD` - index of accessibility to radial highways\n",
    "* `TAX` - full-value property-tax rate per \\$10,000\n",
    "* `PTRATIO` - pupil-teacher ratio by town\n",
    "* `B` - 1000(Bk - 0.63)^2 where Bk is the proportion of blacks by town\n",
    "* `LSTAT` - % lower status of the population\n",
    "* `MEDV` - Median value of owner-occupied homes in $1000's\n",
    "\n",
    "This dataset is normally associated with 2 regression tasks: predicting `NOX` (in which the nitrous oxide level is to be predicted); and predicting price `MEDV` (in which the median value of a home is to be predicted).\n",
    "\n",
    "This dataset was also pre-processed and scaled."
   ]
  },
  {
   "cell_type": "code",
   "execution_count": 236,
   "id": "6cc81058-407b-4ed4-bf4f-c7b6b2cfc76b",
   "metadata": {
    "tags": []
   },
   "outputs": [
    {
     "data": {
      "text/html": [
       "<div>\n",
       "<style scoped>\n",
       "    .dataframe tbody tr th:only-of-type {\n",
       "        vertical-align: middle;\n",
       "    }\n",
       "\n",
       "    .dataframe tbody tr th {\n",
       "        vertical-align: top;\n",
       "    }\n",
       "\n",
       "    .dataframe thead th {\n",
       "        text-align: right;\n",
       "    }\n",
       "</style>\n",
       "<table border=\"1\" class=\"dataframe\">\n",
       "  <thead>\n",
       "    <tr style=\"text-align: right;\">\n",
       "      <th></th>\n",
       "      <th>CRIM</th>\n",
       "      <th>ZN</th>\n",
       "      <th>INDUS</th>\n",
       "      <th>CHAS</th>\n",
       "      <th>NOX</th>\n",
       "      <th>RM</th>\n",
       "      <th>AGE</th>\n",
       "      <th>DIS</th>\n",
       "      <th>RAD</th>\n",
       "      <th>TAX</th>\n",
       "      <th>PTRATIO</th>\n",
       "      <th>B</th>\n",
       "      <th>LSTAT</th>\n",
       "      <th>MEDV</th>\n",
       "    </tr>\n",
       "  </thead>\n",
       "  <tbody>\n",
       "    <tr>\n",
       "      <th>0</th>\n",
       "      <td>0.000000</td>\n",
       "      <td>0.165514</td>\n",
       "      <td>0.067815</td>\n",
       "      <td>0.0</td>\n",
       "      <td>0.273696</td>\n",
       "      <td>0.455845</td>\n",
       "      <td>0.495675</td>\n",
       "      <td>0.238389</td>\n",
       "      <td>0.000000</td>\n",
       "      <td>0.188979</td>\n",
       "      <td>0.252496</td>\n",
       "      <td>0.693147</td>\n",
       "      <td>0.085884</td>\n",
       "      <td>3.218876</td>\n",
       "    </tr>\n",
       "    <tr>\n",
       "      <th>1</th>\n",
       "      <td>0.000236</td>\n",
       "      <td>0.000000</td>\n",
       "      <td>0.242302</td>\n",
       "      <td>0.0</td>\n",
       "      <td>0.159428</td>\n",
       "      <td>0.436962</td>\n",
       "      <td>0.578128</td>\n",
       "      <td>0.299335</td>\n",
       "      <td>0.042560</td>\n",
       "      <td>0.099811</td>\n",
       "      <td>0.440312</td>\n",
       "      <td>0.693147</td>\n",
       "      <td>0.186040</td>\n",
       "      <td>3.117950</td>\n",
       "    </tr>\n",
       "    <tr>\n",
       "      <th>2</th>\n",
       "      <td>0.000236</td>\n",
       "      <td>0.000000</td>\n",
       "      <td>0.242302</td>\n",
       "      <td>0.0</td>\n",
       "      <td>0.159428</td>\n",
       "      <td>0.527320</td>\n",
       "      <td>0.469617</td>\n",
       "      <td>0.299335</td>\n",
       "      <td>0.042560</td>\n",
       "      <td>0.099811</td>\n",
       "      <td>0.440312</td>\n",
       "      <td>0.688003</td>\n",
       "      <td>0.061533</td>\n",
       "      <td>3.575151</td>\n",
       "    </tr>\n",
       "    <tr>\n",
       "      <th>3</th>\n",
       "      <td>0.000293</td>\n",
       "      <td>0.000000</td>\n",
       "      <td>0.063050</td>\n",
       "      <td>0.0</td>\n",
       "      <td>0.139941</td>\n",
       "      <td>0.505947</td>\n",
       "      <td>0.365901</td>\n",
       "      <td>0.370559</td>\n",
       "      <td>0.083382</td>\n",
       "      <td>0.064658</td>\n",
       "      <td>0.500130</td>\n",
       "      <td>0.690281</td>\n",
       "      <td>0.032843</td>\n",
       "      <td>3.538057</td>\n",
       "    </tr>\n",
       "    <tr>\n",
       "      <th>4</th>\n",
       "      <td>0.000705</td>\n",
       "      <td>0.000000</td>\n",
       "      <td>0.063050</td>\n",
       "      <td>0.0</td>\n",
       "      <td>0.139941</td>\n",
       "      <td>0.523014</td>\n",
       "      <td>0.424170</td>\n",
       "      <td>0.370559</td>\n",
       "      <td>0.083382</td>\n",
       "      <td>0.064658</td>\n",
       "      <td>0.500130</td>\n",
       "      <td>0.693147</td>\n",
       "      <td>0.094708</td>\n",
       "      <td>3.616309</td>\n",
       "    </tr>\n",
       "    <tr>\n",
       "      <th>...</th>\n",
       "      <td>...</td>\n",
       "      <td>...</td>\n",
       "      <td>...</td>\n",
       "      <td>...</td>\n",
       "      <td>...</td>\n",
       "      <td>...</td>\n",
       "      <td>...</td>\n",
       "      <td>...</td>\n",
       "      <td>...</td>\n",
       "      <td>...</td>\n",
       "      <td>...</td>\n",
       "      <td>...</td>\n",
       "      <td>...</td>\n",
       "      <td>...</td>\n",
       "    </tr>\n",
       "    <tr>\n",
       "      <th>501</th>\n",
       "      <td>0.000633</td>\n",
       "      <td>0.000000</td>\n",
       "      <td>0.420455</td>\n",
       "      <td>0.0</td>\n",
       "      <td>0.327021</td>\n",
       "      <td>0.458029</td>\n",
       "      <td>0.519848</td>\n",
       "      <td>0.115711</td>\n",
       "      <td>0.000000</td>\n",
       "      <td>0.151967</td>\n",
       "      <td>0.638489</td>\n",
       "      <td>0.686938</td>\n",
       "      <td>0.198109</td>\n",
       "      <td>3.152736</td>\n",
       "    </tr>\n",
       "    <tr>\n",
       "      <th>502</th>\n",
       "      <td>0.000438</td>\n",
       "      <td>0.000000</td>\n",
       "      <td>0.420455</td>\n",
       "      <td>0.0</td>\n",
       "      <td>0.327021</td>\n",
       "      <td>0.398993</td>\n",
       "      <td>0.565337</td>\n",
       "      <td>0.100111</td>\n",
       "      <td>0.000000</td>\n",
       "      <td>0.151967</td>\n",
       "      <td>0.638489</td>\n",
       "      <td>0.693147</td>\n",
       "      <td>0.184664</td>\n",
       "      <td>3.072693</td>\n",
       "    </tr>\n",
       "    <tr>\n",
       "      <th>503</th>\n",
       "      <td>0.000612</td>\n",
       "      <td>0.000000</td>\n",
       "      <td>0.420455</td>\n",
       "      <td>0.0</td>\n",
       "      <td>0.327021</td>\n",
       "      <td>0.503402</td>\n",
       "      <td>0.645695</td>\n",
       "      <td>0.090189</td>\n",
       "      <td>0.000000</td>\n",
       "      <td>0.151967</td>\n",
       "      <td>0.638489</td>\n",
       "      <td>0.693147</td>\n",
       "      <td>0.102459</td>\n",
       "      <td>3.214868</td>\n",
       "    </tr>\n",
       "    <tr>\n",
       "      <th>504</th>\n",
       "      <td>0.001160</td>\n",
       "      <td>0.000000</td>\n",
       "      <td>0.420455</td>\n",
       "      <td>0.0</td>\n",
       "      <td>0.327021</td>\n",
       "      <td>0.482097</td>\n",
       "      <td>0.636473</td>\n",
       "      <td>0.108419</td>\n",
       "      <td>0.000000</td>\n",
       "      <td>0.151967</td>\n",
       "      <td>0.638489</td>\n",
       "      <td>0.688788</td>\n",
       "      <td>0.123165</td>\n",
       "      <td>3.135494</td>\n",
       "    </tr>\n",
       "    <tr>\n",
       "      <th>505</th>\n",
       "      <td>0.000462</td>\n",
       "      <td>0.000000</td>\n",
       "      <td>0.420455</td>\n",
       "      <td>0.0</td>\n",
       "      <td>0.327021</td>\n",
       "      <td>0.387355</td>\n",
       "      <td>0.589045</td>\n",
       "      <td>0.117847</td>\n",
       "      <td>0.000000</td>\n",
       "      <td>0.151967</td>\n",
       "      <td>0.638489</td>\n",
       "      <td>0.693147</td>\n",
       "      <td>0.156749</td>\n",
       "      <td>2.557227</td>\n",
       "    </tr>\n",
       "  </tbody>\n",
       "</table>\n",
       "<p>506 rows × 14 columns</p>\n",
       "</div>"
      ],
      "text/plain": [
       "         CRIM        ZN     INDUS  CHAS       NOX        RM       AGE  \\\n",
       "0    0.000000  0.165514  0.067815   0.0  0.273696  0.455845  0.495675   \n",
       "1    0.000236  0.000000  0.242302   0.0  0.159428  0.436962  0.578128   \n",
       "2    0.000236  0.000000  0.242302   0.0  0.159428  0.527320  0.469617   \n",
       "3    0.000293  0.000000  0.063050   0.0  0.139941  0.505947  0.365901   \n",
       "4    0.000705  0.000000  0.063050   0.0  0.139941  0.523014  0.424170   \n",
       "..        ...       ...       ...   ...       ...       ...       ...   \n",
       "501  0.000633  0.000000  0.420455   0.0  0.327021  0.458029  0.519848   \n",
       "502  0.000438  0.000000  0.420455   0.0  0.327021  0.398993  0.565337   \n",
       "503  0.000612  0.000000  0.420455   0.0  0.327021  0.503402  0.645695   \n",
       "504  0.001160  0.000000  0.420455   0.0  0.327021  0.482097  0.636473   \n",
       "505  0.000462  0.000000  0.420455   0.0  0.327021  0.387355  0.589045   \n",
       "\n",
       "          DIS       RAD       TAX   PTRATIO         B     LSTAT      MEDV  \n",
       "0    0.238389  0.000000  0.188979  0.252496  0.693147  0.085884  3.218876  \n",
       "1    0.299335  0.042560  0.099811  0.440312  0.693147  0.186040  3.117950  \n",
       "2    0.299335  0.042560  0.099811  0.440312  0.688003  0.061533  3.575151  \n",
       "3    0.370559  0.083382  0.064658  0.500130  0.690281  0.032843  3.538057  \n",
       "4    0.370559  0.083382  0.064658  0.500130  0.693147  0.094708  3.616309  \n",
       "..        ...       ...       ...       ...       ...       ...       ...  \n",
       "501  0.115711  0.000000  0.151967  0.638489  0.686938  0.198109  3.152736  \n",
       "502  0.100111  0.000000  0.151967  0.638489  0.693147  0.184664  3.072693  \n",
       "503  0.090189  0.000000  0.151967  0.638489  0.693147  0.102459  3.214868  \n",
       "504  0.108419  0.000000  0.151967  0.638489  0.688788  0.123165  3.135494  \n",
       "505  0.117847  0.000000  0.151967  0.638489  0.693147  0.156749  2.557227  \n",
       "\n",
       "[506 rows x 14 columns]"
      ]
     },
     "execution_count": 236,
     "metadata": {},
     "output_type": "execute_result"
    }
   ],
   "source": [
    "housing_df = pd.read_csv('housing.csv')\n",
    "housing_df"
   ]
  },
  {
   "cell_type": "code",
   "execution_count": 237,
   "id": "b6875e51-c4b0-4f65-bbe9-c2fab8e8251d",
   "metadata": {
    "tags": []
   },
   "outputs": [],
   "source": [
    "X = housing_df.values[:,:-1]\n",
    "y = housing_df['MEDV']"
   ]
  },
  {
   "cell_type": "markdown",
   "id": "063952ce-7dcd-4570-88ce-1388a2198d51",
   "metadata": {},
   "source": [
    "### Let's split the data into training, validation and testing. 80% training, 10% validation and 10% testing."
   ]
  },
  {
   "cell_type": "code",
   "execution_count": 238,
   "id": "c07a77f3-c2b6-4bd8-bcec-24125d452202",
   "metadata": {
    "tags": []
   },
   "outputs": [],
   "source": [
    "# your code goes here:\n",
    "x_train, x_rest, y_train, y_rest = train_test_split(X, y, test_size = 0.2)\n",
    "x_valid, x_test, y_valid, y_test = train_test_split(x_rest, y_rest, test_size = 0.5)"
   ]
  },
  {
   "cell_type": "markdown",
   "id": "2ca6a6b3-8855-40e9-b1e1-4fe65e25ef90",
   "metadata": {},
   "source": [
    "# Part I - Ridge Regression\n",
    "\n",
    "Now you will write code that implements Ridge Regression using the closed form from the slides."
   ]
  },
  {
   "cell_type": "code",
   "execution_count": 239,
   "id": "dcb865d2-50fc-41cf-a9fa-a1c6eb0f44d4",
   "metadata": {},
   "outputs": [],
   "source": [
    "def ridge_regression(x, y, la, apply_bias = True):\n",
    "    # your code goes here:\n",
    "    \n",
    "    if apply_bias:\n",
    "        x = np.insert(x, 0, 1, axis=1) # Applies a bias column to our features\n",
    "    \n",
    "    return np.dot(np.dot(np.linalg.inv((la * np.identity(x.shape[1])) + np.dot(x.transpose(), x)), x.transpose()), y)"
   ]
  },
  {
   "cell_type": "markdown",
   "id": "7714d099-7f84-4cdc-9185-4910517eda1b",
   "metadata": {},
   "source": [
    "Test different values of $\\lambda$ on the validation set and choose the one that gives the best RMSE."
   ]
  },
  {
   "cell_type": "code",
   "execution_count": 240,
   "id": "588536cc-6720-4c65-baaa-dd8bcbcb3617",
   "metadata": {},
   "outputs": [],
   "source": [
    "# your code goes here:\n",
    "rmse_train = []\n",
    "rmse_valid = []\n",
    "la_range = []\n",
    "\n",
    "for la in np.linspace(0, 2, 20):\n",
    "    w = ridge_regression(x_train, y_train, la, apply_bias=False)\n",
    "    \n",
    "    pred_train = np.dot(x_train, w)\n",
    "    pred_valid = np.dot(x_valid, w)\n",
    "    \n",
    "    rmse_train.append(mean_squared_error(y_train, pred_train, squared=False))\n",
    "    rmse_valid.append(mean_squared_error(y_valid, pred_valid, squared=False))\n",
    "    la_range.append(la)"
   ]
  },
  {
   "cell_type": "markdown",
   "id": "37c993ff-b01a-450f-a806-5b995f238097",
   "metadata": {},
   "source": [
    "Plot the RMSE of the validation and training sets at different values of $\\lambda$. \n",
    "\n",
    "Try: 20 points in the interval $\\lambda \\in [0,2]$\n",
    "\n",
    "Your plot should like the one below."
   ]
  },
  {
   "cell_type": "code",
   "execution_count": 243,
   "id": "367a397e-a27b-433f-9a8e-93279888fcf8",
   "metadata": {},
   "outputs": [
    {
     "name": "stdout",
     "output_type": "stream",
     "text": [
      "Best Lambda:  0.42105263157894735\n"
     ]
    },
    {
     "data": {
      "image/png": "[encoded data removed]",
      "text/plain": [
       "<Figure size 640x480 with 1 Axes>"
      ]
     },
     "metadata": {},
     "output_type": "display_data"
    }
   ],
   "source": [
    "# your code goes here:\n",
    "df = pd.DataFrame({\"Lambda\": la_range, \"Training\": rmse_train, \"Validation\": rmse_valid})\n",
    "plotting_df = df.melt(\"Lambda\", var_name=\"Type\", value_name=\"RMSE\")\n",
    "sns.lineplot(data=plotting_df, x=\"Lambda\", y=\"RMSE\", hue=\"Type\", style=\"Type\", markers=True)\n",
    "\n",
    "best_la = la_range[np.array(rmse_valid).argmin()]\n",
    "print(\"Best Lambda: \", best_la)"
   ]
  },
  {
   "cell_type": "code",
   "execution_count": 104,
   "id": "461206c7-df5d-4376-9a14-ce03134e73d0",
   "metadata": {
    "tags": []
   },
   "outputs": [
    {
     "data": {
      "image/png": "[encoded data removed]",
      "text/plain": [
       "<Figure size 640x480 with 1 Axes>"
      ]
     },
     "metadata": {},
     "output_type": "display_data"
    }
   ],
   "source": [
    "## leave this cell untouched to see how the plot should look like\n",
    "## Ok <3"
   ]
  },
  {
   "cell_type": "markdown",
   "id": "5185bf27-6689-45f4-b35c-27a7f4b93c2c",
   "metadata": {},
   "source": [
    "Now, after selecting the best $\\lambda$ based on the plot above, report the RMSE of the testing set.\n",
    "\n",
    "Don't forget to use the whole training set (train+validation) to train a model with the best value of $\\lambda$."
   ]
  },
  {
   "cell_type": "code",
   "execution_count": 250,
   "id": "100209b8-77ce-4e58-8abe-2341bf1bcbd9",
   "metadata": {},
   "outputs": [
    {
     "name": "stdout",
     "output_type": "stream",
     "text": [
      "RMSE with the best lambda = 0.31353563615217683\n"
     ]
    }
   ],
   "source": [
    "# your code goes here:\n",
    "best_x = np.vstack((x_train, x_valid))\n",
    "best_y = np.vstack((np.asarray(y_train).reshape(-1,1), np.asarray(y_valid).reshape(-1,1)))\n",
    "\n",
    "best_w = ridge_regression(best_x, best_y, best_la, apply_bias=False)\n",
    "\n",
    "best_predict = np.dot(x_test, best_w)\n",
    "best_rmse = mean_squared_error(y_test, best_predict, squared=False)\n",
    "print(\"RMSE with the best lambda =\", best_rmse)"
   ]
  },
  {
   "cell_type": "markdown",
   "id": "b451c94d-96e5-4629-90c1-da989e30bc67",
   "metadata": {},
   "source": [
    "# Part II - Lasso\n",
    "\n",
    "Now you will implement Lasso regression, but using the scikit-learn implementation to learn the weights.\n",
    "\n",
    "You will still use the same training/validation/testing folds as in Part I"
   ]
  },
  {
   "cell_type": "markdown",
   "id": "0d4eb715-e76d-4cc3-beb5-7c6f9ef9221d",
   "metadata": {},
   "source": [
    "The l1 term is controlled by the alpha parameter in the scikit-learn implementation of Lasso."
   ]
  },
  {
   "cell_type": "code",
   "execution_count": 252,
   "id": "50aa2786-7a5a-4a32-bcf1-f5382def9345",
   "metadata": {
    "tags": []
   },
   "outputs": [
    {
     "data": {
      "text/plain": [
       "array([3.08765298, 3.08765298, 3.08765298, 3.08765298, 3.08765298,\n",
       "       3.08765298, 3.08765298, 3.08765298, 3.08765298, 3.08765298,\n",
       "       3.08765298, 3.08765298, 3.08765298, 3.08765298, 3.08765298,\n",
       "       3.08765298, 3.08765298, 3.08765298, 3.08765298, 3.08765298,\n",
       "       3.08765298, 3.08765298, 3.08765298, 3.08765298, 3.08765298,\n",
       "       3.08765298, 3.08765298, 3.08765298, 3.08765298, 3.08765298,\n",
       "       3.08765298, 3.08765298, 3.08765298, 3.08765298, 3.08765298,\n",
       "       3.08765298, 3.08765298, 3.08765298, 3.08765298, 3.08765298,\n",
       "       3.08765298, 3.08765298, 3.08765298, 3.08765298, 3.08765298,\n",
       "       3.08765298, 3.08765298, 3.08765298, 3.08765298, 3.08765298,\n",
       "       3.08765298])"
      ]
     },
     "execution_count": 252,
     "metadata": {},
     "output_type": "execute_result"
    }
   ],
   "source": [
    "# The general way of using the Lasso implementation (or any other classifier/regressor) of scikit-learn is as follows:\n",
    "# Make sure to replace X, y, and X_val with your training set variables!\n",
    "alpha_value = 0.1\n",
    "lasso_regression = Lasso(alpha=alpha_value).fit(x_train, y_train)\n",
    "y_predict_lasso_reg = lasso_regression.predict(x_valid)\n",
    "y_predict_lasso_reg"
   ]
  },
  {
   "cell_type": "markdown",
   "id": "a16b6bc9-224f-4ab3-b3c0-7804e3e73f73",
   "metadata": {},
   "source": [
    "### The goal here is to again find a good value of alpha for the RMSE in the validation set. \n",
    "Experiment with some different values, generate the same plot as Part I, and report the RMSE of testing set after selecting the best alpha from the validation set."
   ]
  },
  {
   "cell_type": "code",
   "execution_count": 268,
   "id": "61f35c87-e8c9-4eda-91f4-3e8502922387",
   "metadata": {},
   "outputs": [
    {
     "name": "stderr",
     "output_type": "stream",
     "text": [
      "C:\\Users\\georg\\AppData\\Local\\Temp\\ipykernel_6432\\4231575519.py:8: UserWarning: With alpha=0, this algorithm does not converge well. You are advised to use the LinearRegression estimator\n",
      "  lasso_regression = Lasso(alpha=al).fit(x_train, y_train)\n",
      "c:\\Users\\georg\\AppData\\Local\\Programs\\Python\\Python310\\lib\\site-packages\\sklearn\\linear_model\\_coordinate_descent.py:631: UserWarning: Coordinate descent with no regularization may lead to unexpected results and is discouraged.\n",
      "  model = cd_fast.enet_coordinate_descent(\n",
      "c:\\Users\\georg\\AppData\\Local\\Programs\\Python\\Python310\\lib\\site-packages\\sklearn\\linear_model\\_coordinate_descent.py:631: ConvergenceWarning: Objective did not converge. You might want to increase the number of iterations, check the scale of the features or consider increasing regularisation. Duality gap: 5.776e+00, tolerance: 5.522e-03 Linear regression models with null weight for the l1 regularization term are more efficiently fitted using one of the solvers implemented in sklearn.linear_model.Ridge/RidgeCV instead.\n",
      "  model = cd_fast.enet_coordinate_descent(\n",
      "C:\\Users\\georg\\AppData\\Local\\Temp\\ipykernel_6432\\4231575519.py:25: UserWarning: With alpha=0, this algorithm does not converge well. You are advised to use the LinearRegression estimator\n",
      "  lasso_regression = Lasso(alpha=best_al).fit(best_x, best_y)\n",
      "c:\\Users\\georg\\AppData\\Local\\Programs\\Python\\Python310\\lib\\site-packages\\sklearn\\linear_model\\_coordinate_descent.py:631: UserWarning: Coordinate descent with no regularization may lead to unexpected results and is discouraged.\n",
      "  model = cd_fast.enet_coordinate_descent(\n",
      "c:\\Users\\georg\\AppData\\Local\\Programs\\Python\\Python310\\lib\\site-packages\\sklearn\\linear_model\\_coordinate_descent.py:631: ConvergenceWarning: Objective did not converge. You might want to increase the number of iterations, check the scale of the features or consider increasing regularisation. Duality gap: 6.501e+00, tolerance: 6.447e-03 Linear regression models with null weight for the l1 regularization term are more efficiently fitted using one of the solvers implemented in sklearn.linear_model.Ridge/RidgeCV instead.\n",
      "  model = cd_fast.enet_coordinate_descent(\n"
     ]
    },
    {
     "data": {
      "image/png": "[encoded data removed]",
      "text/plain": [
       "<Figure size 640x480 with 1 Axes>"
      ]
     },
     "metadata": {},
     "output_type": "display_data"
    }
   ],
   "source": [
    "# your code goes here:\n",
    "rmse_train2 = []\n",
    "rmse_valid2 = []\n",
    "al_range = []\n",
    "\n",
    "# Taking all alpha's RMSE\n",
    "for al in np.linspace(0, 2, 20):\n",
    "    lasso_regression = Lasso(alpha=al).fit(x_train, y_train)\n",
    "    \n",
    "    predict_lasso_training = lasso_regression.predict(x_train)\n",
    "    predict_lasso_valid = lasso_regression.predict(x_valid)\n",
    "    \n",
    "    rmse_train2.append(mean_squared_error(y_train, predict_lasso_training, squared=False))\n",
    "    rmse_valid2.append(mean_squared_error(y_valid, predict_lasso_valid, squared=False))\n",
    "    al_range.append(al)\n",
    "\n",
    "# Plotting RMSE x Alphas\n",
    "df_lasso = pd.DataFrame({\"Alpha\": al_range, \"Training\": rmse_train2, \"Validation\": rmse_valid2})\n",
    "plotting_lasso = df_lasso.melt(\"Alpha\", var_name=\"Type\", value_name=\"RMSE\")\n",
    "sns.lineplot(data=plotting_lasso, x=\"Alpha\", y=\"RMSE\", hue=\"Type\", style=\"Type\", markers=True)\n",
    "\n",
    "# Taking the best Alpha and calculating it's RMSE\n",
    "best_al = al_range[np.array(rmse_valid2).argmin()]\n",
    "\n",
    "lasso_regression = Lasso(alpha=best_al).fit(best_x, best_y)\n",
    "best_predict_lasso = lasso_regression.predict(x_test)\n",
    "\n",
    "best_rmse2 = mean_squared_error(y_test, best_predict_lasso, squared=False)"
   ]
  },
  {
   "cell_type": "code",
   "execution_count": 267,
   "id": "8477dd38",
   "metadata": {},
   "outputs": [
    {
     "name": "stdout",
     "output_type": "stream",
     "text": [
      "Best Alpha:  0.0\n",
      "RMSE with the best alpha = 0.20906812114953507\n"
     ]
    }
   ],
   "source": [
    "print(\"Best Alpha: \", best_al)\n",
    "print(\"RMSE with the best alpha =\", best_rmse2)"
   ]
  },
  {
   "cell_type": "markdown",
   "id": "3b96b14f-ef5c-4810-8527-ef2ab07fe338",
   "metadata": {},
   "source": [
    "# Part III Elastic Net\n",
    "\n",
    "Now let's combine both ridge and lasso and implement Elastic Net Regression, again we'll use the sklearn implementation."
   ]
  },
  {
   "cell_type": "markdown",
   "id": "9595e120-f8bb-48d5-bb22-d786dddfd99f",
   "metadata": {},
   "source": [
    "Following the guidelines from Part II, implement Elastic Net using the sklearn implementation ElasticNet()\n",
    "\n",
    "I strongly advise you to read the documentation: https://scikit-learn.org/stable/modules/generated/sklearn.linear_model.ElasticNet.html"
   ]
  },
  {
   "cell_type": "markdown",
   "id": "dc8448f4-a37d-4467-baea-8d1a5453ccdb",
   "metadata": {},
   "source": [
    "For simplicity here, let's apply the best $\\lambda$ of Part I and the best alpha from Part II and train an Elastic Net model and report the testing set RMSE."
   ]
  },
  {
   "cell_type": "code",
   "execution_count": 269,
   "id": "abef1e61-c6aa-41f7-a087-49ca6f86a7b1",
   "metadata": {},
   "outputs": [
    {
     "name": "stdout",
     "output_type": "stream",
     "text": [
      "Elastic Net RMSE with best Alpha and best Lambda =  0.4250853057309345\n"
     ]
    },
    {
     "name": "stderr",
     "output_type": "stream",
     "text": [
      "c:\\Users\\georg\\AppData\\Local\\Programs\\Python\\Python310\\lib\\site-packages\\sklearn\\linear_model\\_coordinate_descent.py:631: ConvergenceWarning: Objective did not converge. You might want to increase the number of iterations, check the scale of the features or consider increasing regularisation. Duality gap: 2.688e+01, tolerance: 6.447e-03 Linear regression models with null weight for the l1 regularization term are more efficiently fitted using one of the solvers implemented in sklearn.linear_model.Ridge/RidgeCV instead.\n",
      "  model = cd_fast.enet_coordinate_descent(\n"
     ]
    }
   ],
   "source": [
    "# your coude goes here:\n",
    "elastic_net = ElasticNet(alpha=best_la + best_al, l1_ratio=(best_al)/(best_al+best_la)).fit(best_x, best_y)\n",
    "elastic_predict = elastic_net.predict(x_test)\n",
    "elastic_rmse = mean_squared_error(y_test, elastic_predict, squared=False)\n",
    "print(\"Elastic Net RMSE with best Alpha and best Lambda = \", elastic_rmse)"
   ]
  }
 ],
 "metadata": {
  "kernelspec": {
   "display_name": "Python 3 (ipykernel)",
   "language": "python",
   "name": "python3"
  },
  "language_info": {
   "codemirror_mode": {
    "name": "ipython",
    "version": 3
   },
   "file_extension": ".py",
   "mimetype": "text/x-python",
   "name": "python",
   "nbconvert_exporter": "python",
   "pygments_lexer": "ipython3",
   "version": "3.10.8"
  }
 },
 "nbformat": 4,
 "nbformat_minor": 5
}
