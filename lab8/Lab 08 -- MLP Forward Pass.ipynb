{
 "cells": [
  {
   "cell_type": "code",
   "execution_count": 153,
   "id": "425ac6e9-8919-4c06-be1c-782241f835f6",
   "metadata": {
    "tags": []
   },
   "outputs": [],
   "source": [
    "import numpy as np\n",
    "import pandas as pd\n",
    "from sklearn.model_selection import train_test_split\n",
    "import warnings"
   ]
  },
  {
   "attachments": {},
   "cell_type": "markdown",
   "id": "fc6f6b7d-1fdf-43a4-bd7c-03d90114d3fb",
   "metadata": {},
   "source": [
    "# Lab 8 - Multi-layer Perceptron Forward Pass"
   ]
  },
  {
   "attachments": {},
   "cell_type": "markdown",
   "id": "c353aba0-7656-45d0-961a-850e9f31f967",
   "metadata": {},
   "source": [
    "## Part I\n",
    "For this exercise you will implement a simple 2-layer perceptron (forward pass)\n",
    "\n",
    "For the first part you'll write a function that computes the forward pass of a 2-layer perecptron that predicts the prices of houses, using the usual Boston housing dataset."
   ]
  },
  {
   "cell_type": "code",
   "execution_count": 154,
   "id": "7804bef6-2bd6-4d05-bc4e-f9d8325f12ec",
   "metadata": {
    "tags": []
   },
   "outputs": [
    {
     "data": {
      "text/html": [
       "<div>\n",
       "<style scoped>\n",
       "    .dataframe tbody tr th:only-of-type {\n",
       "        vertical-align: middle;\n",
       "    }\n",
       "\n",
       "    .dataframe tbody tr th {\n",
       "        vertical-align: top;\n",
       "    }\n",
       "\n",
       "    .dataframe thead th {\n",
       "        text-align: right;\n",
       "    }\n",
       "</style>\n",
       "<table border=\"1\" class=\"dataframe\">\n",
       "  <thead>\n",
       "    <tr style=\"text-align: right;\">\n",
       "      <th></th>\n",
       "      <th>crim</th>\n",
       "      <th>zn</th>\n",
       "      <th>indus</th>\n",
       "      <th>chas</th>\n",
       "      <th>nox</th>\n",
       "      <th>rm</th>\n",
       "      <th>age</th>\n",
       "      <th>dis</th>\n",
       "      <th>rad</th>\n",
       "      <th>tax</th>\n",
       "      <th>ptratio</th>\n",
       "      <th>b</th>\n",
       "      <th>lstat</th>\n",
       "      <th>medv</th>\n",
       "    </tr>\n",
       "  </thead>\n",
       "  <tbody>\n",
       "    <tr>\n",
       "      <th>0</th>\n",
       "      <td>0.00632</td>\n",
       "      <td>18.0</td>\n",
       "      <td>2.31</td>\n",
       "      <td>0</td>\n",
       "      <td>0.538</td>\n",
       "      <td>6.575</td>\n",
       "      <td>65.2</td>\n",
       "      <td>4.0900</td>\n",
       "      <td>1</td>\n",
       "      <td>296</td>\n",
       "      <td>15.3</td>\n",
       "      <td>396.90</td>\n",
       "      <td>4.98</td>\n",
       "      <td>24.0</td>\n",
       "    </tr>\n",
       "    <tr>\n",
       "      <th>1</th>\n",
       "      <td>0.02731</td>\n",
       "      <td>0.0</td>\n",
       "      <td>7.07</td>\n",
       "      <td>0</td>\n",
       "      <td>0.469</td>\n",
       "      <td>6.421</td>\n",
       "      <td>78.9</td>\n",
       "      <td>4.9671</td>\n",
       "      <td>2</td>\n",
       "      <td>242</td>\n",
       "      <td>17.8</td>\n",
       "      <td>396.90</td>\n",
       "      <td>9.14</td>\n",
       "      <td>21.6</td>\n",
       "    </tr>\n",
       "    <tr>\n",
       "      <th>2</th>\n",
       "      <td>0.02729</td>\n",
       "      <td>0.0</td>\n",
       "      <td>7.07</td>\n",
       "      <td>0</td>\n",
       "      <td>0.469</td>\n",
       "      <td>7.185</td>\n",
       "      <td>61.1</td>\n",
       "      <td>4.9671</td>\n",
       "      <td>2</td>\n",
       "      <td>242</td>\n",
       "      <td>17.8</td>\n",
       "      <td>392.83</td>\n",
       "      <td>4.03</td>\n",
       "      <td>34.7</td>\n",
       "    </tr>\n",
       "    <tr>\n",
       "      <th>3</th>\n",
       "      <td>0.03237</td>\n",
       "      <td>0.0</td>\n",
       "      <td>2.18</td>\n",
       "      <td>0</td>\n",
       "      <td>0.458</td>\n",
       "      <td>6.998</td>\n",
       "      <td>45.8</td>\n",
       "      <td>6.0622</td>\n",
       "      <td>3</td>\n",
       "      <td>222</td>\n",
       "      <td>18.7</td>\n",
       "      <td>394.63</td>\n",
       "      <td>2.94</td>\n",
       "      <td>33.4</td>\n",
       "    </tr>\n",
       "    <tr>\n",
       "      <th>4</th>\n",
       "      <td>0.06905</td>\n",
       "      <td>0.0</td>\n",
       "      <td>2.18</td>\n",
       "      <td>0</td>\n",
       "      <td>0.458</td>\n",
       "      <td>7.147</td>\n",
       "      <td>54.2</td>\n",
       "      <td>6.0622</td>\n",
       "      <td>3</td>\n",
       "      <td>222</td>\n",
       "      <td>18.7</td>\n",
       "      <td>396.90</td>\n",
       "      <td>5.33</td>\n",
       "      <td>36.2</td>\n",
       "    </tr>\n",
       "  </tbody>\n",
       "</table>\n",
       "</div>"
      ],
      "text/plain": [
       "      crim    zn  indus  chas    nox     rm   age     dis  rad  tax  ptratio  \\\n",
       "0  0.00632  18.0   2.31     0  0.538  6.575  65.2  4.0900    1  296     15.3   \n",
       "1  0.02731   0.0   7.07     0  0.469  6.421  78.9  4.9671    2  242     17.8   \n",
       "2  0.02729   0.0   7.07     0  0.469  7.185  61.1  4.9671    2  242     17.8   \n",
       "3  0.03237   0.0   2.18     0  0.458  6.998  45.8  6.0622    3  222     18.7   \n",
       "4  0.06905   0.0   2.18     0  0.458  7.147  54.2  6.0622    3  222     18.7   \n",
       "\n",
       "        b  lstat  medv  \n",
       "0  396.90   4.98  24.0  \n",
       "1  396.90   9.14  21.6  \n",
       "2  392.83   4.03  34.7  \n",
       "3  394.63   2.94  33.4  \n",
       "4  396.90   5.33  36.2  "
      ]
     },
     "execution_count": 154,
     "metadata": {},
     "output_type": "execute_result"
    }
   ],
   "source": [
    "boston = pd.read_csv('BostonHousing.txt')\n",
    "boston.head()"
   ]
  },
  {
   "attachments": {},
   "cell_type": "markdown",
   "id": "8bc1af35-c3bc-48b5-916a-63bf0dd535cb",
   "metadata": {
    "tags": []
   },
   "source": [
    "As usual, consider the MEDV as your target variable. \n",
    "* Split the data into training, validation and testing (70,15,15)% (you will need this for the next lab as we will build from this lab)"
   ]
  },
  {
   "cell_type": "code",
   "execution_count": 155,
   "id": "5df5bfc8-26c0-4d48-9c3c-05a9e404e1d4",
   "metadata": {
    "tags": []
   },
   "outputs": [],
   "source": [
    "# your code goes here\n",
    "x, t = boston.values[:, :-1], boston.values[:, -1]\n",
    "\n",
    "x_train, x_temp, t_train, t_temp = train_test_split(x, t, train_size = 0.7)\n",
    "x_valid, x_test, t_valid, t_test = train_test_split(x_temp, t_temp, train_size = 0.5)"
   ]
  },
  {
   "attachments": {},
   "cell_type": "markdown",
   "id": "1656b9eb-c272-43fb-8fe5-c095cf8461ad",
   "metadata": {},
   "source": [
    "Now you will write the function that computes the forward pass. \n",
    "* I provide here a structure that you can follow for your function, but again, feel free to modify it as you see fit.\n",
    "* Use the sigmoid function as the activation of the hidden layer.\n",
    "* Don't forget about the biases!\n",
    "* *It is up to you to think what should be the activation for the output layer.*"
   ]
  },
  {
   "cell_type": "code",
   "execution_count": 156,
   "id": "c582d2ac-e33c-47a7-8e24-fecadf38c53a",
   "metadata": {},
   "outputs": [],
   "source": [
    "def sigmoid_activation(z):\n",
    "    # your code goes here\n",
    "    return 1 / (1 + np.exp(-z))"
   ]
  },
  {
   "cell_type": "code",
   "execution_count": 157,
   "id": "30eb784e-a9c5-4a70-afcd-bcaf356aa576",
   "metadata": {},
   "outputs": [],
   "source": [
    "def two_layer_perceptron(X: np.ndarray, activation_func, dim_input, dim_hidden, dim_output, output_func = None, apply_bias = True):\n",
    "    \"\"\"\n",
    "    Implements the forward pass of a two-layer fully connected perceptron.\n",
    "    \n",
    "    Parameters\n",
    "    ----------\n",
    "    X : a 2-dimensional array\n",
    "        the input data\n",
    "    activation_func : function\n",
    "        the activation function to be used for the hidden layer\n",
    "    dim_input : int\n",
    "        the dimensionality of the input layer\n",
    "    dim_hidden : int\n",
    "        the dimensionality of the hidden layer\n",
    "    dim_output : int\n",
    "        the dimensionality of the output layer\n",
    "    output_func : function\n",
    "        the activation function to be used for the output. if None, uses an \"Identity\" transformation \n",
    "    apply_bias : bool\n",
    "        if True, apply a 'ones' column at the beggining of the data array, and updates the input dimension\n",
    "    Returns\n",
    "    -------\n",
    "    y_pred : float\n",
    "        the output of the computation of the forward pass of the network\n",
    "    \"\"\"\n",
    "    # your code goes here\n",
    "    if apply_bias:\n",
    "        X = np.insert(X, 0, 1, axis=1)\n",
    "        dim_input += 1\n",
    "    \n",
    "    # I'll generate random weights since we do not want any solid results here, only the application\n",
    "    W1 = np.random.random((dim_input, dim_hidden))\n",
    "    W2 = np.random.random((dim_hidden+1, dim_output))\n",
    "\n",
    "    # Using forward propagation\n",
    "    hidden1 = activation_func(X @ W1)\n",
    "    hidden1 = np.insert(hidden1, 0, 1, axis = 1)\n",
    "\n",
    "    # Applye the output activation function, if it exists\n",
    "    if output_func == None:\n",
    "        return hidden1 @ W2\n",
    "    else:\n",
    "        return output_func(hidden1 @ W2)"
   ]
  },
  {
   "attachments": {},
   "cell_type": "markdown",
   "id": "f18eb5a0-15c8-4c98-8481-5ca52a27da2d",
   "metadata": {},
   "source": [
    "Calculate the RMSE of the forward pass. "
   ]
  },
  {
   "cell_type": "code",
   "execution_count": 158,
   "id": "737d98a2",
   "metadata": {},
   "outputs": [],
   "source": [
    "def root_mean_square(predict, target):\n",
    "    result_array = (predict - target)**2\n",
    "    RMS_error = np.sqrt(np.mean(result_array))\n",
    "    return RMS_error"
   ]
  },
  {
   "cell_type": "code",
   "execution_count": 168,
   "id": "dcc26211-91c1-47f9-8779-eb723b0c209e",
   "metadata": {},
   "outputs": [
    {
     "name": "stdout",
     "output_type": "stream",
     "text": [
      "RMSE = 20.768116111153684\n"
     ]
    }
   ],
   "source": [
    "# your code goes here\n",
    "warnings.filterwarnings('ignore')\n",
    "\n",
    "y_pred = two_layer_perceptron(x_train, sigmoid_activation, x_train.shape[1], 5, 1)\n",
    "print(\"RMSE =\", root_mean_square(y_pred, t_train.reshape(-1,1)))"
   ]
  },
  {
   "attachments": {},
   "cell_type": "markdown",
   "id": "fa6650ab-79e5-4636-a4c9-84b977c48541",
   "metadata": {},
   "source": [
    "## Part II \n",
    "\n",
    "For this exercise you will write a function that calculates the forward pass of a 2-layer perceptron that predicts the exact digit from a hand-written image, using the MNIST dataset. "
   ]
  },
  {
   "cell_type": "code",
   "execution_count": 169,
   "id": "3bfe2473-16e8-4dce-9e5b-7d5ce1154200",
   "metadata": {
    "tags": []
   },
   "outputs": [],
   "source": [
    "from sklearn.datasets import load_digits"
   ]
  },
  {
   "cell_type": "code",
   "execution_count": 170,
   "id": "4f8f04ee-c8e6-4531-9ad4-b0e530e1f92d",
   "metadata": {
    "tags": []
   },
   "outputs": [],
   "source": [
    "digits = load_digits()"
   ]
  },
  {
   "cell_type": "code",
   "execution_count": 171,
   "id": "6c49e3cd-e16a-4847-ac73-b9628f3f159a",
   "metadata": {
    "tags": []
   },
   "outputs": [],
   "source": [
    "X = digits.data\n",
    "y = digits.target"
   ]
  },
  {
   "attachments": {},
   "cell_type": "markdown",
   "id": "ebdaf177-1cda-4c04-8d12-090678310602",
   "metadata": {},
   "source": [
    "Again, you will split the data into training, validation and testing."
   ]
  },
  {
   "cell_type": "code",
   "execution_count": 174,
   "id": "8519363c-f7e0-43a8-ba4e-a33ab9d5b96e",
   "metadata": {},
   "outputs": [
    {
     "data": {
      "text/plain": [
       "array([3, 0, 4, 7, 2])"
      ]
     },
     "execution_count": 174,
     "metadata": {},
     "output_type": "execute_result"
    }
   ],
   "source": [
    "# your code goes here:\n",
    "x_train, x_temp, t_train, t_temp = train_test_split(X, y, train_size = 0.7)\n",
    "x_valid, x_test, t_valid, t_test = train_test_split(x_temp, t_temp, train_size = 0.5)\n",
    "t_train[:5]"
   ]
  },
  {
   "cell_type": "code",
   "execution_count": 175,
   "id": "f1215b49",
   "metadata": {},
   "outputs": [
    {
     "name": "stdout",
     "output_type": "stream",
     "text": [
      "[[0. 0. 0. 1. 0. 0. 0. 0. 0. 0.]\n",
      " [1. 0. 0. 0. 0. 0. 0. 0. 0. 0.]\n",
      " [0. 0. 0. 0. 1. 0. 0. 0. 0. 0.]\n",
      " [0. 0. 0. 0. 0. 0. 0. 1. 0. 0.]\n",
      " [0. 0. 1. 0. 0. 0. 0. 0. 0. 0.]]\n"
     ]
    }
   ],
   "source": [
    "# I'll need to prepare the target to be compared with a probability vector\n",
    "t_prob = np.zeros((t_train.shape[0], 10))\n",
    "\n",
    "for i in range(t_train.shape[0]):\n",
    "    t_prob[i, t_train[i]] = 1\n",
    "\n",
    "print(t_prob[:5,:])"
   ]
  },
  {
   "attachments": {},
   "cell_type": "markdown",
   "id": "2bc4d63e-30c3-4f7d-8f6f-b12496886b5e",
   "metadata": {},
   "source": [
    "Write a function that calculates the forward pass for this multi-class classification problem.\n",
    "* You will use the sigmoid activation function for the hidden layer.\n",
    "* For the output layer you will have to write the softmax activation function (you can check the slides)\n",
    "* __Note:__ you can easily re-use the function that you coded for Part I if you do a simple modification and also include an input argument for the activation of the output layer."
   ]
  },
  {
   "cell_type": "code",
   "execution_count": 176,
   "id": "26d68da7-1fa1-4074-b8fa-29ff1c21d8a5",
   "metadata": {},
   "outputs": [],
   "source": [
    "def softmax_activation(z: np.ndarray):\n",
    "    # your code goes here:\n",
    "        return np.exp(z)/(np.sum(np.exp(z), axis=1)).reshape(-1,1)\n",
    "\n",
    "def CE_multi(predict, target):\n",
    "    return -np.sum(target * np.log(predict))"
   ]
  },
  {
   "cell_type": "code",
   "execution_count": 190,
   "id": "c28da05c-908f-4b46-87f9-e94718ca52b1",
   "metadata": {},
   "outputs": [
    {
     "data": {
      "text/plain": [
       "array([[0.14359725, 0.13299504, 0.11305141, 0.10786231, 0.04723124,\n",
       "        0.12870463, 0.09101544, 0.09799319, 0.0525075 , 0.085042  ],\n",
       "       [0.14359725, 0.13299504, 0.11305141, 0.10786231, 0.04723124,\n",
       "        0.12870463, 0.09101544, 0.09799319, 0.0525075 , 0.085042  ],\n",
       "       [0.14359725, 0.13299504, 0.11305141, 0.10786231, 0.04723124,\n",
       "        0.12870463, 0.09101544, 0.09799319, 0.0525075 , 0.085042  ],\n",
       "       [0.14359725, 0.13299504, 0.11305141, 0.10786231, 0.04723124,\n",
       "        0.12870463, 0.09101544, 0.09799319, 0.0525075 , 0.085042  ],\n",
       "       [0.14359725, 0.13299504, 0.11305141, 0.10786231, 0.04723124,\n",
       "        0.12870463, 0.09101544, 0.09799319, 0.0525075 , 0.085042  ]])"
      ]
     },
     "execution_count": 190,
     "metadata": {},
     "output_type": "execute_result"
    }
   ],
   "source": [
    "# your code goes here: \n",
    "# I can reuse the anterior function, especifying the output dimension as the number of classes\n",
    "y_pred = two_layer_perceptron(x_train, sigmoid_activation, x_train.shape[1], 1, 10, softmax_activation)\n",
    "y_pred[:5,:]"
   ]
  },
  {
   "attachments": {},
   "cell_type": "markdown",
   "id": "db6b264d-1b1d-433a-98d3-eaf33b685a67",
   "metadata": {},
   "source": [
    "Lastly, calculate the error of this forward pass using the cross-entropy loss."
   ]
  },
  {
   "cell_type": "code",
   "execution_count": 191,
   "id": "015f701c-f816-4208-8cdc-4ba32f03f08d",
   "metadata": {},
   "outputs": [
    {
     "name": "stdout",
     "output_type": "stream",
     "text": [
      "Multiclass Cross Entropy error = 2965.02692235057\n"
     ]
    }
   ],
   "source": [
    "# your code goes here:\n",
    "error = CE_multi(y_pred, t_prob)\n",
    "print(\"Multiclass Cross Entropy error =\", error)"
   ]
  }
 ],
 "metadata": {
  "kernelspec": {
   "display_name": "Python 3 (ipykernel)",
   "language": "python",
   "name": "python3"
  },
  "language_info": {
   "codemirror_mode": {
    "name": "ipython",
    "version": 3
   },
   "file_extension": ".py",
   "mimetype": "text/x-python",
   "name": "python",
   "nbconvert_exporter": "python",
   "pygments_lexer": "ipython3",
   "version": "3.10.11"
  }
 },
 "nbformat": 4,
 "nbformat_minor": 5
}
