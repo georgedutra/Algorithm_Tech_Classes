{
 "cells": [
  {
   "cell_type": "code",
   "execution_count": 51,
   "id": "425ac6e9-8919-4c06-be1c-782241f835f6",
   "metadata": {
    "tags": []
   },
   "outputs": [],
   "source": [
    "import numpy as np\n",
    "import pandas as pd\n",
    "import matplotlib.pyplot as plt\n",
    "import seaborn as sns\n",
    "from sklearn.model_selection import train_test_split"
   ]
  },
  {
   "attachments": {},
   "cell_type": "markdown",
   "id": "fc6f6b7d-1fdf-43a4-bd7c-03d90114d3fb",
   "metadata": {},
   "source": [
    "# Lab 9 - Multi-layer Perceptron Forward Pass & Backpropagation"
   ]
  },
  {
   "attachments": {},
   "cell_type": "markdown",
   "id": "b99c1b83-fb9a-4321-882b-fd0c74d2ab1b",
   "metadata": {},
   "source": [
    "## Part I\n",
    "For this exercise you will implement a simple 2-layer perceptron with the forward pass and the backpropagation to learn the weights\n",
    "\n",
    "For the first part you'll build and train a 2-layer neural network that predicts the prices of houses, using the usual Boston housing dataset."
   ]
  },
  {
   "cell_type": "code",
   "execution_count": 6,
   "id": "7804bef6-2bd6-4d05-bc4e-f9d8325f12ec",
   "metadata": {
    "tags": []
   },
   "outputs": [
    {
     "name": "stdout",
     "output_type": "stream",
     "text": [
      "(506, 14)\n"
     ]
    },
    {
     "data": {
      "text/html": [
       "<div>\n",
       "<style scoped>\n",
       "    .dataframe tbody tr th:only-of-type {\n",
       "        vertical-align: middle;\n",
       "    }\n",
       "\n",
       "    .dataframe tbody tr th {\n",
       "        vertical-align: top;\n",
       "    }\n",
       "\n",
       "    .dataframe thead th {\n",
       "        text-align: right;\n",
       "    }\n",
       "</style>\n",
       "<table border=\"1\" class=\"dataframe\">\n",
       "  <thead>\n",
       "    <tr style=\"text-align: right;\">\n",
       "      <th></th>\n",
       "      <th>crim</th>\n",
       "      <th>zn</th>\n",
       "      <th>indus</th>\n",
       "      <th>chas</th>\n",
       "      <th>nox</th>\n",
       "      <th>rm</th>\n",
       "      <th>age</th>\n",
       "      <th>dis</th>\n",
       "      <th>rad</th>\n",
       "      <th>tax</th>\n",
       "      <th>ptratio</th>\n",
       "      <th>b</th>\n",
       "      <th>lstat</th>\n",
       "      <th>medv</th>\n",
       "    </tr>\n",
       "  </thead>\n",
       "  <tbody>\n",
       "    <tr>\n",
       "      <th>0</th>\n",
       "      <td>0.00632</td>\n",
       "      <td>18.0</td>\n",
       "      <td>2.31</td>\n",
       "      <td>0</td>\n",
       "      <td>0.538</td>\n",
       "      <td>6.575</td>\n",
       "      <td>65.2</td>\n",
       "      <td>4.0900</td>\n",
       "      <td>1</td>\n",
       "      <td>296</td>\n",
       "      <td>15.3</td>\n",
       "      <td>396.90</td>\n",
       "      <td>4.98</td>\n",
       "      <td>24.0</td>\n",
       "    </tr>\n",
       "    <tr>\n",
       "      <th>1</th>\n",
       "      <td>0.02731</td>\n",
       "      <td>0.0</td>\n",
       "      <td>7.07</td>\n",
       "      <td>0</td>\n",
       "      <td>0.469</td>\n",
       "      <td>6.421</td>\n",
       "      <td>78.9</td>\n",
       "      <td>4.9671</td>\n",
       "      <td>2</td>\n",
       "      <td>242</td>\n",
       "      <td>17.8</td>\n",
       "      <td>396.90</td>\n",
       "      <td>9.14</td>\n",
       "      <td>21.6</td>\n",
       "    </tr>\n",
       "    <tr>\n",
       "      <th>2</th>\n",
       "      <td>0.02729</td>\n",
       "      <td>0.0</td>\n",
       "      <td>7.07</td>\n",
       "      <td>0</td>\n",
       "      <td>0.469</td>\n",
       "      <td>7.185</td>\n",
       "      <td>61.1</td>\n",
       "      <td>4.9671</td>\n",
       "      <td>2</td>\n",
       "      <td>242</td>\n",
       "      <td>17.8</td>\n",
       "      <td>392.83</td>\n",
       "      <td>4.03</td>\n",
       "      <td>34.7</td>\n",
       "    </tr>\n",
       "    <tr>\n",
       "      <th>3</th>\n",
       "      <td>0.03237</td>\n",
       "      <td>0.0</td>\n",
       "      <td>2.18</td>\n",
       "      <td>0</td>\n",
       "      <td>0.458</td>\n",
       "      <td>6.998</td>\n",
       "      <td>45.8</td>\n",
       "      <td>6.0622</td>\n",
       "      <td>3</td>\n",
       "      <td>222</td>\n",
       "      <td>18.7</td>\n",
       "      <td>394.63</td>\n",
       "      <td>2.94</td>\n",
       "      <td>33.4</td>\n",
       "    </tr>\n",
       "    <tr>\n",
       "      <th>4</th>\n",
       "      <td>0.06905</td>\n",
       "      <td>0.0</td>\n",
       "      <td>2.18</td>\n",
       "      <td>0</td>\n",
       "      <td>0.458</td>\n",
       "      <td>7.147</td>\n",
       "      <td>54.2</td>\n",
       "      <td>6.0622</td>\n",
       "      <td>3</td>\n",
       "      <td>222</td>\n",
       "      <td>18.7</td>\n",
       "      <td>396.90</td>\n",
       "      <td>5.33</td>\n",
       "      <td>36.2</td>\n",
       "    </tr>\n",
       "  </tbody>\n",
       "</table>\n",
       "</div>"
      ],
      "text/plain": [
       "      crim    zn  indus  chas    nox     rm   age     dis  rad  tax  ptratio  \\\n",
       "0  0.00632  18.0   2.31     0  0.538  6.575  65.2  4.0900    1  296     15.3   \n",
       "1  0.02731   0.0   7.07     0  0.469  6.421  78.9  4.9671    2  242     17.8   \n",
       "2  0.02729   0.0   7.07     0  0.469  7.185  61.1  4.9671    2  242     17.8   \n",
       "3  0.03237   0.0   2.18     0  0.458  6.998  45.8  6.0622    3  222     18.7   \n",
       "4  0.06905   0.0   2.18     0  0.458  7.147  54.2  6.0622    3  222     18.7   \n",
       "\n",
       "        b  lstat  medv  \n",
       "0  396.90   4.98  24.0  \n",
       "1  396.90   9.14  21.6  \n",
       "2  392.83   4.03  34.7  \n",
       "3  394.63   2.94  33.4  \n",
       "4  396.90   5.33  36.2  "
      ]
     },
     "execution_count": 6,
     "metadata": {},
     "output_type": "execute_result"
    }
   ],
   "source": [
    "boston = pd.read_csv('BostonHousing.txt')\n",
    "print(boston.shape)\n",
    "boston.head()"
   ]
  },
  {
   "attachments": {},
   "cell_type": "markdown",
   "id": "d6bdfc73-7702-4a3c-af9f-6fb897ec643c",
   "metadata": {
    "tags": []
   },
   "source": [
    "As usual, consider the MEDV as your target variable. \n",
    "* Split the data into training, validation and testing (70,15,15)%\n",
    "* Experiment with different number of neurons per layer for your network, using the validation set"
   ]
  },
  {
   "cell_type": "code",
   "execution_count": 11,
   "id": "5df5bfc8-26c0-4d48-9c3c-05a9e404e1d4",
   "metadata": {
    "tags": []
   },
   "outputs": [],
   "source": [
    "# your code goes here\n",
    "x, t = boston.values[:, :-1], boston.values[:, -1]\n",
    "t = t.reshape(-1,1)\n",
    "\n",
    "x_train, x_temp, t_train, t_temp = train_test_split(x, t, train_size = 0.7)\n",
    "x_valid, x_test, t_valid, t_test = train_test_split(x_temp, t_temp, train_size = 0.5)"
   ]
  },
  {
   "cell_type": "code",
   "execution_count": 4,
   "id": "1895f77b",
   "metadata": {},
   "outputs": [],
   "source": [
    "# Most common activation functions\n",
    "def id_activation(z):\n",
    "    return z\n",
    "\n",
    "def id_derivative(z):\n",
    "    return 1\n",
    "\n",
    "def sigmoid_activation(z):\n",
    "    return 1 / (1 + np.exp(-z))\n",
    "\n",
    "def sigmoid_derivative(z):\n",
    "    sig = sigmoid_activation(z)\n",
    "    return  sig*(1-sig)\n",
    "\n",
    "def softmax_activation(z: np.ndarray):\n",
    "    return np.exp(z)/(np.sum(np.exp(z), axis=1)).reshape(-1,1)\n",
    "\n",
    "def softmax_derivative(z):\n",
    "    soft = softmax_activation(z)\n",
    "    return soft * (1-soft)\n",
    "\n",
    "# Error functions\n",
    "def SSE(predict, target):\n",
    "    return np.sum((predict - target)**2)\n",
    "\n",
    "def SSE_derivative(predict, target):\n",
    "    return predict - target\n",
    "\n",
    "def RMSE(predict, target):\n",
    "    return np.sqrt(np.mean((predict - target)**2))\n",
    "\n",
    "def Cross_Entropy(predict, target):\n",
    "    return -(np.sum(target * np.log(predict) + (1-target)*np.log(1-predict)))\n",
    "\n",
    "def CE_derivative(predict, target):\n",
    "    return (target/predict) + (1 - target)/(1 - predict)\n",
    "\n",
    "def CE_multiclass(predict, target):\n",
    "    return -np.sum(target * np.log(predict))"
   ]
  },
  {
   "cell_type": "code",
   "execution_count": 5,
   "id": "1fce437a",
   "metadata": {},
   "outputs": [],
   "source": [
    "# Multi-Layer Perceptron\n",
    "class MultiLayer_Perceptron():\n",
    "    def __init__(self, model: int, regularization: float = 0) -> None:\n",
    "        \"\"\"Initiating the class, you must decide wich type of model will be trained\n",
    "\n",
    "        :param model: An enumeration of the type of model:\n",
    "            - 0 = Regression Model\n",
    "            - 1 = Binary Classification\n",
    "            - 2 = Multiple Non-Exclusive Classification\n",
    "            - 3 = Multiple Mutualy Exclusive Classification\n",
    "        \n",
    "        :type model: int\n",
    "        \n",
    "        :param regularization: The value of lambda to be used in the quadratic error regularization\n",
    "        :type regularization: float, defaults to 0\n",
    "        \"\"\"\n",
    "        self.features = ((sigmoid_activation, sigmoid_derivative, id_activation, SSE, SSE_derivative), \n",
    "                         (sigmoid_activation, sigmoid_derivative, sigmoid_activation, Cross_Entropy, CE_derivative), \n",
    "                         (sigmoid_activation, sigmoid_derivative, sigmoid_activation, Cross_Entropy, CE_derivative), \n",
    "                         (sigmoid_activation, sigmoid_derivative, softmax_activation, CE_multiclass, SSE_derivative))\n",
    "        # Defining some important functions according to the wished model\n",
    "        self.model = model\n",
    "\n",
    "        self.activation_func = self.features[model][0]\n",
    "        self.derivative_func = self.features[model][1]\n",
    "\n",
    "        self.output_func = self.features[model][2]\n",
    "\n",
    "        self.error_func = self.features[model][3]\n",
    "        self.error_derivative = self.features[model][4]\n",
    "\n",
    "        self.weights = None\n",
    "        \n",
    "        self.reg_lambda = regularization # Lambda value to use in the regularization\n",
    "\n",
    "    def forward_pass(self, x: np.ndarray, apply_bias: bool = False) -> tuple[np.ndarray | float, list, list]:\n",
    "        \"\"\"\n",
    "        Implements the forward pass of a multi-layer fully connected perceptron.\n",
    "        \n",
    "        Parameters\n",
    "        ----------\n",
    "        x : a 2-dimensional array\n",
    "            the input data\n",
    "        apply_bias : bool, defaults to False\n",
    "            if True, apply bias to the input data. For independent use purposes\n",
    "        \n",
    "        Returns\n",
    "        -------\n",
    "        y_pred : np.ndarray\n",
    "            the output of the computation of the forward pass of the network\n",
    "        a_list : list\n",
    "            list with every layer's input matrices\n",
    "        z_list : list\n",
    "            list with every layer's output matrices\n",
    "        \"\"\"\n",
    "        if apply_bias:\n",
    "            x = np.insert(x, 0, 1, axis=1)\n",
    "        \n",
    "        # If we have only one weight matrix, we have no layers, just a simple prediction\n",
    "        if len(self.weights) == 1:\n",
    "            return self.output_func(x @ self.weights[-1])\n",
    "\n",
    "        # Using forward propagation\n",
    "        a_list = []\n",
    "        z_list = []\n",
    "\n",
    "        # Input layer:\n",
    "        a = x @ self.weights[0]\n",
    "        a_list.append(a)\n",
    "\n",
    "        z = self.activation_func(a)\n",
    "        z = np.insert(z, 0, 1, axis = 1)\n",
    "        z_list.append(z)\n",
    "\n",
    "        # Hidden layers: \n",
    "        for i in range(1, len(self.weights)-1):\n",
    "            a = z @ self.weights[i] # First step of unit\n",
    "            a_list.append(a)\n",
    "\n",
    "            z = self.activation_func(a) # Second step of unit\n",
    "            z = np.insert(z, 0, 1, axis = 1) # Preparing z for next bias\n",
    "            z_list.append(z)\n",
    "\n",
    "        # Last Hidden Layer (output):\n",
    "        y_pred = self.output_func(z @ self.weights[-1])\n",
    "        return y_pred, a_list, z_list\n",
    "\n",
    "    def __backpropagation__(self, x: np.ndarray, target: np.ndarray, prediction: np.ndarray, a_list: list[np.ndarray], z_list: list[np.ndarray]):\n",
    "        \"\"\"Adjust the weight matrices in the 'weights' list, accordding to the error propagated from the dataset 'x', the prediction, and the target.\n",
    "        This auxiliar method will alter the weights in-place, and won't return anything.\n",
    "\n",
    "        :param x: Dataset used to train the model.\n",
    "        :type x: np.ndarray\n",
    "\n",
    "        :param target: Target of the prediction.\n",
    "        :type target: np.ndarray\n",
    "\n",
    "        :param prediction: Predicted values.\n",
    "        :type prediction: np.ndarray\n",
    "\n",
    "        :param a_list: List with each unit's input values.\n",
    "        :type a_list: list[np.ndarray]\n",
    "\n",
    "        :param z_list: List with each unit's output values.\n",
    "        :type z_list: list[np.ndarray]\n",
    "        \"\"\"\n",
    "        a_list.reverse()\n",
    "        z_list.reverse()\n",
    "        self.weights.reverse() \n",
    "        # Now, we're dealing with the reversed weights and parameters, so we're starting from the output layer\n",
    "\n",
    "        # Updating the output layer\n",
    "        w = self.weights[0]\n",
    "        z = z_list[0]\n",
    "\n",
    "        deltas_next = self.error_derivative(prediction, target)\n",
    "\n",
    "        d_error = z.T @ deltas_next\n",
    "        reg_error = d_error + (self.reg_lambda * np.sum(w)) # Regularizing the error\n",
    "        \n",
    "        w = w - (0.01 * reg_error) # Adjusting weights\n",
    "        self.weights[0] = w\n",
    "\n",
    "        # Updating the middle layers\n",
    "        for layer in range(1, len(self.weights) - 1):\n",
    "            w = self.weights[layer]\n",
    "            a = a_list[layer]\n",
    "            z = z_list[layer]\n",
    "\n",
    "            # Finding the layer's deltas\n",
    "            deltas = self.derivative_func(a) * (self.weights[layer-1][1:,:] @ deltas_next.T).T\n",
    "            \n",
    "            d_error = z.T @ deltas\n",
    "            reg_error = d_error + (self.reg_lambda * np.sum(w)) # Regularizing the error\n",
    "\n",
    "            w = w - (0.01 * reg_error) # Adjusting weights\n",
    "\n",
    "            deltas_next = deltas\n",
    "            self.weights[layer] = w\n",
    "\n",
    "        # Finally, updating the input weights\n",
    "        w = self.weights[-1]\n",
    "\n",
    "        deltas = self.derivative_func(x @ w) * (self.weights[-2][1:,:] @ deltas_next.T).T\n",
    "\n",
    "        d_error = x.T @ deltas\n",
    "        reg_error = d_error + (self.reg_lambda * np.sum(w)) # Regularizing the error\n",
    "\n",
    "        w = w - (0.01 * reg_error) # Adjusting weights\n",
    "        self.weights[-1] = w\n",
    "\n",
    "        self.weights.reverse() # Reverts w back to normal\n",
    "        return\n",
    "\n",
    "    def __generate_random_weights__(self, x, target, neuron_num, layer_num):\n",
    "        \"\"\"This auxiliar function generates random weight matrices according to the passed parameters, and updates them in-place.\n",
    "\n",
    "        :param x: 2-dimensional array with training data. Each line must be a datapoint. Defines the first dimension of the input weight matrix. \n",
    "        :type x: np.ndarray\n",
    "\n",
    "        :param target: 2-dimensional array with targets to the training data. Each line must refer to a datapoint. Defines the second dimension of the output weight matrix.\n",
    "        :type target: np.ndarray\n",
    "        \n",
    "        :param neuron_num: Number of neurons to use in each hidden layer. Will define the shapes of most weight matrices.\n",
    "        :type neuron_num: int\n",
    "        \n",
    "        :param layer_num: Number of hidden layers to use in the neural network. Will define the amount of weight matrices.\n",
    "        :type layer_num: int\n",
    "        \"\"\"\n",
    "        w = []\n",
    "        rng = np.random.default_rng()\n",
    "        \n",
    "        # Creating input weights\n",
    "        w.append(rng.normal(0, 0.01, (x.shape[1], neuron_num)))\n",
    "\n",
    "        # Creating middle layers weights\n",
    "        for i in range(1, layer_num):\n",
    "            w.append(rng.normal(0, 0.01, (neuron_num + 1, neuron_num)))\n",
    "\n",
    "        # Creating output weights\n",
    "        w.append(rng.normal(0, 0.01, (neuron_num + 1, target.shape[1])))\n",
    "\n",
    "        self.weights = w\n",
    "        return\n",
    "\n",
    "    def fit(self, x: np.ndarray, target: np.ndarray, \n",
    "            layer_num: int, neuron_num: int, epochs_num: int, \n",
    "            validation: tuple[np.ndarray, np.ndarray] = None, gradient_descent: int = 0, apply_bias: bool = True):\n",
    "        \"\"\"Trains the model through multilayer perceptron neural network.\n",
    "\n",
    "        :param x: 2-dimensional array with training data. Each line must be a datapoint. \n",
    "        :type x: np.ndarray\n",
    "\n",
    "        :param target: 2-dimensional array with targets to the training data. Each line must refer to a datapoint.\n",
    "        :type target: np.ndarray\n",
    "        \n",
    "        :param layer_num: Number of hidden layers to use in the neural network.\n",
    "        :type layer_num: int\n",
    "        \n",
    "        :param neuron_num: Number of neurons to use in each hidden layer. All layers will have the same amount of neurons.\n",
    "        :type neuron_num: int\n",
    "        \n",
    "        :param epochs_num: Amount of repetitions to train the weights through the stochastic gradient descent. \n",
    "            BE CAREFUL! If using stochastic gradient descent, it's not recommended to use too many epochs.\n",
    "        :type epochs_num: int\n",
    "\n",
    "        :param validation: Must be a tuple. The first element being the validation set. The second one being the target set.\n",
    "        If passed, will calculate the validation loss along with the training, and return it in the loss list.\n",
    "        :type validation: tuple[np.ndarray, np.ndarray | float], defaults to None\n",
    "\n",
    "        :param gradient_descent: enumeration that defines wich method of gradient descent to use\n",
    "            - 0 = Stochastic\n",
    "            - 1 = Batch\n",
    "        :type gradient_descent: int, defaults to 0\n",
    "\n",
    "        :param apply_bias: if True, apply a 'ones' column at the beggining of the data array\n",
    "        :type apply_bias: bool, defaults to True\n",
    "\n",
    "        ---\n",
    "\n",
    "        :return loss: Returns a list with three lists: one with range(epochs_num), one with the training loss, and (if passed) one with the validation loss\n",
    "        :rtype loss: list[list, list, list]\n",
    "        \"\"\"\n",
    "        # First we apply the bias in the raw data\n",
    "        if apply_bias:\n",
    "            x = np.insert(x, 0, 1, axis=1)\n",
    "\n",
    "        self.__generate_random_weights__(x, target, neuron_num, layer_num)\n",
    "\n",
    "        # Now, we must train the data through forward pass, gradient descent and backpropagation\n",
    "        loss = [list(range(epochs_num)), [], []]\n",
    "\n",
    "        if gradient_descent == 0:\n",
    "            # Stochastic Gradient Descent\n",
    "            for epoch in range(epochs_num):\n",
    "                for i in range(x.shape[0]):\n",
    "                    datapoint = x[i].reshape(1,-1) # Reshaping it to be a 2-dimensional line vector\n",
    "                    target_point = target[i].reshape(1,-1)\n",
    "\n",
    "                    y_pred, a_list, z_list = self.forward_pass(datapoint) # Calling the forward pass to a single datapoint\n",
    "\n",
    "                    self.__backpropagation__(datapoint, target_point, y_pred, a_list, z_list) # Updating w with backpropagation\n",
    "                    \n",
    "                y_pred = self.forward_pass(x)[0]\n",
    "                if self.model == 0:\n",
    "                    loss[1].append(RMSE(y_pred, target)) # At the end of each epoch, we calculate the error\n",
    "                else:    \n",
    "                    loss[1].append(self.error_func(y_pred, target)) # At the end of each epoch, we calculate the error\n",
    "                \n",
    "                if validation:\n",
    "                    val_pred = self.forward_pass(validation[0], True)[0]\n",
    "                    if self.model == 0:\n",
    "                        loss[2].append(RMSE(val_pred, validation[1]))\n",
    "                    else:    \n",
    "                        loss[2].append(self.error_func(val_pred, validation[1]))\n",
    "\n",
    "            return loss\n",
    "        \n",
    "        elif gradient_descent == 1:\n",
    "            # Batch Gradient Descent\n",
    "            for epoch in range(epochs_num):\n",
    "                y_pred, a_list, z_list = self.forward_pass(x)\n",
    "\n",
    "                self.__backpropagation__(x, target, y_pred, a_list, z_list) # Updating w with backpropagation\n",
    "                    \n",
    "                loss[1].append(self.error_func(y_pred, target)) # At the end of each epoch, we calculate the error\n",
    "                \n",
    "                if validation:\n",
    "                    val_pred = self.forward_pass(validation[0], True)[0]\n",
    "                    loss[2].append(self.error_func(val_pred, validation[1]))\n",
    "\n",
    "            return loss\n"
   ]
  },
  {
   "cell_type": "code",
   "execution_count": 34,
   "id": "dcc26211-91c1-47f9-8779-eb723b0c209e",
   "metadata": {},
   "outputs": [],
   "source": [
    "# your code goes here\n",
    "reg = MultiLayer_Perceptron(0, 0.0001)\n",
    "\n",
    "data = []\n",
    "\n",
    "for neurons in range(50):\n",
    "    loss0 = reg.fit(x_train, t_train, 2, neurons, 50)[1][-1]\n",
    "    data.append(loss0)"
   ]
  },
  {
   "cell_type": "code",
   "execution_count": 35,
   "id": "b6ed33e8",
   "metadata": {},
   "outputs": [
    {
     "data": {
      "image/png": "[encoded data removed]",
      "text/plain": [
       "<Figure size 640x480 with 1 Axes>"
      ]
     },
     "metadata": {},
     "output_type": "display_data"
    }
   ],
   "source": [
    "plt.plot(data)\n",
    "plt.show()"
   ]
  },
  {
   "attachments": {},
   "cell_type": "markdown",
   "id": "b4565b41",
   "metadata": {},
   "source": [
    "As we can see, small numbers of neurons are better, so let's stick with only 3"
   ]
  },
  {
   "cell_type": "code",
   "execution_count": 49,
   "metadata": {},
   "outputs": [
    {
     "name": "stdout",
     "output_type": "stream",
     "text": [
      "Final training error: 0.25500112007971576\n"
     ]
    }
   ],
   "source": [
    "x_final = np.vstack((x_train, x_valid))\n",
    "t_final = np.vstack((t_train, t_valid))\n",
    "\n",
    "final_reg = MultiLayer_Perceptron(0, 0.0001)\n",
    "final_reg.fit(x_final, t_final, 1, 3, 50)\n",
    "\n",
    "# Making the prediction with the testing data\n",
    "prediction = final_reg.forward_pass(x_test, True)[0] \n",
    "final_error = RMSE(prediction, t_test)\n",
    "print(\"Final training error:\", final_error)"
   ]
  },
  {
   "attachments": {},
   "cell_type": "markdown",
   "id": "fa6650ab-79e5-4636-a4c9-84b977c48541",
   "metadata": {},
   "source": [
    "## Part II \n",
    "\n",
    "For this exercise you will build and train a 2-layer neural network that predicts the exact digit from a hand-written image, using the MNIST dataset. \n",
    "For this exercise, add weight decay to your network."
   ]
  },
  {
   "cell_type": "code",
   "execution_count": 36,
   "id": "3bfe2473-16e8-4dce-9e5b-7d5ce1154200",
   "metadata": {
    "tags": []
   },
   "outputs": [],
   "source": [
    "from sklearn.datasets import load_digits"
   ]
  },
  {
   "cell_type": "code",
   "execution_count": 37,
   "id": "4f8f04ee-c8e6-4531-9ad4-b0e530e1f92d",
   "metadata": {
    "tags": []
   },
   "outputs": [],
   "source": [
    "digits = load_digits()"
   ]
  },
  {
   "cell_type": "code",
   "execution_count": 38,
   "id": "6c49e3cd-e16a-4847-ac73-b9628f3f159a",
   "metadata": {
    "tags": []
   },
   "outputs": [],
   "source": [
    "X = digits.data\n",
    "y = digits.target"
   ]
  },
  {
   "cell_type": "code",
   "execution_count": 40,
   "id": "172b3419-d470-433f-87f9-4df67e4761e8",
   "metadata": {
    "tags": []
   },
   "outputs": [
    {
     "data": {
      "text/plain": [
       "(1797,)"
      ]
     },
     "execution_count": 40,
     "metadata": {},
     "output_type": "execute_result"
    }
   ],
   "source": [
    "y.shape"
   ]
  },
  {
   "cell_type": "code",
   "execution_count": 44,
   "id": "07e3152b",
   "metadata": {},
   "outputs": [
    {
     "data": {
      "text/plain": [
       "array([0, 1, 2, 3, 4])"
      ]
     },
     "execution_count": 44,
     "metadata": {},
     "output_type": "execute_result"
    }
   ],
   "source": [
    "y[:5]"
   ]
  },
  {
   "attachments": {},
   "cell_type": "markdown",
   "id": "ebdaf177-1cda-4c04-8d12-090678310602",
   "metadata": {},
   "source": [
    "Again, you will split the data into training, validation and testing."
   ]
  },
  {
   "cell_type": "code",
   "execution_count": 46,
   "id": "8519363c-f7e0-43a8-ba4e-a33ab9d5b96e",
   "metadata": {},
   "outputs": [
    {
     "data": {
      "text/plain": [
       "array([[1., 0., 0., 0., 0., 0., 0., 0., 0., 0.],\n",
       "       [0., 1., 0., 0., 0., 0., 0., 0., 0., 0.],\n",
       "       [0., 0., 1., 0., 0., 0., 0., 0., 0., 0.],\n",
       "       [0., 0., 0., 1., 0., 0., 0., 0., 0., 0.],\n",
       "       [0., 0., 0., 0., 1., 0., 0., 0., 0., 0.]])"
      ]
     },
     "execution_count": 46,
     "metadata": {},
     "output_type": "execute_result"
    }
   ],
   "source": [
    "# First I need to turn y into a probability vector\n",
    "t = np.zeros((y.shape[0], 10))\n",
    "for i in range(t.shape[0]):\n",
    "    t[i, y[i]] = 1\n",
    "\n",
    "t[:5,:]"
   ]
  },
  {
   "cell_type": "code",
   "execution_count": 53,
   "id": "73039271",
   "metadata": {},
   "outputs": [],
   "source": [
    "x_train, x_temp, t_train, t_temp = train_test_split(X, t, train_size = 0.7)\n",
    "x_valid, x_test, t_valid, t_test = train_test_split(x_temp, t_temp, train_size = 0.5)"
   ]
  },
  {
   "cell_type": "code",
   "execution_count": 52,
   "id": "015f701c-f816-4208-8cdc-4ba32f03f08d",
   "metadata": {},
   "outputs": [
    {
     "name": "stderr",
     "output_type": "stream",
     "text": [
      "C:\\Users\\georg\\AppData\\Local\\Temp\\ipykernel_13780\\95304115.py:131: RuntimeWarning: overflow encountered in matmul\n",
      "  deltas = self.derivative_func(a) * (self.weights[layer-1][1:,:] @ deltas_next.T).T\n",
      "C:\\Users\\georg\\AppData\\Local\\Temp\\ipykernel_13780\\95304115.py:131: RuntimeWarning: invalid value encountered in multiply\n",
      "  deltas = self.derivative_func(a) * (self.weights[layer-1][1:,:] @ deltas_next.T).T\n"
     ]
    },
    {
     "data": {
      "text/plain": [
       "<Axes: title={'center': 'Validation Loss'}, xlabel='Epochs', ylabel='SSE'>"
      ]
     },
     "execution_count": 52,
     "metadata": {},
     "output_type": "execute_result"
    },
    {
     "data": {
      "image/png": "[encoded data removed]",
      "text/plain": [
       "<Figure size 1000x400 with 2 Axes>"
      ]
     },
     "metadata": {},
     "output_type": "display_data"
    }
   ],
   "source": [
    "# your code goes here:\n",
    "classification = MultiLayer_Perceptron(0, 0.1)\n",
    "test_loss = classification.fit(x_train, t_train, 3, 3, 1000, (x_valid, t_valid), 1)\n",
    "\n",
    "fig, axes = plt.subplots(1, 2, figsize=(10,4))\n",
    "fig.suptitle(\"Neural Network Loss\")\n",
    "\n",
    "axes[0].set_title(\"Training Loss\")\n",
    "axes[1].set_title(\"Validation Loss\")\n",
    "\n",
    "sns.lineplot({\"Epochs\": test_loss[0], \"SSE\": test_loss[1]}, x=\"Epochs\", y=\"SSE\", ax=axes[0])\n",
    "sns.lineplot({\"Epochs\": test_loss[0], \"SSE\": test_loss[2]}, x=\"Epochs\", y=\"SSE\", ax=axes[1])\n",
    "# The plots are in different scales since we use SSE, wich does not normalizes the error, and our training data is far bigger than the validation "
   ]
  },
  {
   "cell_type": "code",
   "execution_count": 57,
   "id": "24ec091e",
   "metadata": {},
   "outputs": [],
   "source": [
    "classif = MultiLayer_Perceptron(3, 0.001)\n",
    "\n",
    "data = []\n",
    "\n",
    "for neurons in range(10, 201, 10):\n",
    "    loss0 = classif.fit(x_train, t_train, 2, neurons, 50)[1][-1]\n",
    "    data.append(loss0)"
   ]
  },
  {
   "cell_type": "code",
   "execution_count": 58,
   "id": "2c658e5f",
   "metadata": {},
   "outputs": [
    {
     "data": {
      "image/png": "[encoded data removed]",
      "text/plain": [
       "<Figure size 640x480 with 1 Axes>"
      ]
     },
     "metadata": {},
     "output_type": "display_data"
    }
   ],
   "source": [
    "plt.plot(data)\n",
    "plt.show()"
   ]
  },
  {
   "cell_type": "code",
   "execution_count": 62,
   "id": "7da703e1",
   "metadata": {},
   "outputs": [
    {
     "data": {
      "text/plain": [
       "13"
      ]
     },
     "execution_count": 62,
     "metadata": {},
     "output_type": "execute_result"
    }
   ],
   "source": [
    "np.argmin(data)"
   ]
  },
  {
   "cell_type": "code",
   "execution_count": 63,
   "id": "8a04a7d5",
   "metadata": {},
   "outputs": [
    {
     "name": "stdout",
     "output_type": "stream",
     "text": [
      "Final training error: 0.05665564532627591\n"
     ]
    }
   ],
   "source": [
    "neurons = range(10, 201, 10)[13]\n",
    "\n",
    "x_final = np.vstack((x_train, x_valid))\n",
    "t_final = np.vstack((t_train, t_valid))\n",
    "\n",
    "final_class = MultiLayer_Perceptron(3, 0.001)\n",
    "final_class.fit(x_final, t_final, 1, neurons, 50)\n",
    "\n",
    "# Making the prediction with the testing data\n",
    "prediction = final_class.forward_pass(x_test, True)[0] \n",
    "final_error = RMSE(prediction, t_test)\n",
    "print(\"Final training error:\", final_error)"
   ]
  }
 ],
 "metadata": {
  "kernelspec": {
   "display_name": "Python 3 (ipykernel)",
   "language": "python",
   "name": "python3"
  },
  "language_info": {
   "codemirror_mode": {
    "name": "ipython",
    "version": 3
   },
   "file_extension": ".py",
   "mimetype": "text/x-python",
   "name": "python",
   "nbconvert_exporter": "python",
   "pygments_lexer": "ipython3",
   "version": "3.10.11"
  }
 },
 "nbformat": 4,
 "nbformat_minor": 5
}
