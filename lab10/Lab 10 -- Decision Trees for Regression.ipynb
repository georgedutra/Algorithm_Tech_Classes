{
 "cells": [
  {
   "attachments": {},
   "cell_type": "markdown",
   "id": "ff872904-f029-497b-8b41-c5f801ce6fbc",
   "metadata": {},
   "source": [
    "# Lab 10 -- Decision Trees for Regression\n",
    "\n",
    "Compared to last week, this is a very simple lab <span style=\"font-size:20pt;\">😃</span> You'll have fun programming!\n",
    "\n",
    "You will implement the **Classification and Regression Tree (CART)** algorithm from scratch.\n",
    "\n",
    "The lab is broken down into the following pieces:\n",
    "\n",
    "* Regression Criterion\n",
    "* Creating Splits\n",
    "* Buiding a Tree\n",
    "* Making a prediction\n",
    "\n",
    "## Exercise 1 -- Download and load the dataset\n",
    "\n",
    "We will be using the usual Boston Housing dataset, which is available to download from ECLASS\n",
    "\n",
    "* Download the file\n",
    "* Read it and separate the target variable from the features.\n",
    "* Make a 80/10/10 train/validation/test split"
   ]
  },
  {
   "cell_type": "code",
   "execution_count": 1,
   "id": "2285bb42-350c-4042-9f9c-e1a936ca7ab6",
   "metadata": {
    "tags": []
   },
   "outputs": [],
   "source": [
    "import pandas as pd\n",
    "import numpy as np\n",
    "from sklearn.model_selection import train_test_split"
   ]
  },
  {
   "cell_type": "code",
   "execution_count": 2,
   "id": "5a1f1e4a-feb8-4c43-bcf9-e7d86be427fb",
   "metadata": {
    "tags": []
   },
   "outputs": [
    {
     "data": {
      "text/html": [
       "<div>\n",
       "<style scoped>\n",
       "    .dataframe tbody tr th:only-of-type {\n",
       "        vertical-align: middle;\n",
       "    }\n",
       "\n",
       "    .dataframe tbody tr th {\n",
       "        vertical-align: top;\n",
       "    }\n",
       "\n",
       "    .dataframe thead th {\n",
       "        text-align: right;\n",
       "    }\n",
       "</style>\n",
       "<table border=\"1\" class=\"dataframe\">\n",
       "  <thead>\n",
       "    <tr style=\"text-align: right;\">\n",
       "      <th></th>\n",
       "      <th>crim</th>\n",
       "      <th>zn</th>\n",
       "      <th>indus</th>\n",
       "      <th>chas</th>\n",
       "      <th>nox</th>\n",
       "      <th>rm</th>\n",
       "      <th>age</th>\n",
       "      <th>dis</th>\n",
       "      <th>rad</th>\n",
       "      <th>tax</th>\n",
       "      <th>ptratio</th>\n",
       "      <th>b</th>\n",
       "      <th>lstat</th>\n",
       "      <th>medv</th>\n",
       "    </tr>\n",
       "  </thead>\n",
       "  <tbody>\n",
       "    <tr>\n",
       "      <th>0</th>\n",
       "      <td>0.00632</td>\n",
       "      <td>18.0</td>\n",
       "      <td>2.31</td>\n",
       "      <td>0</td>\n",
       "      <td>0.538</td>\n",
       "      <td>6.575</td>\n",
       "      <td>65.2</td>\n",
       "      <td>4.0900</td>\n",
       "      <td>1</td>\n",
       "      <td>296</td>\n",
       "      <td>15.3</td>\n",
       "      <td>396.90</td>\n",
       "      <td>4.98</td>\n",
       "      <td>24.0</td>\n",
       "    </tr>\n",
       "    <tr>\n",
       "      <th>1</th>\n",
       "      <td>0.02731</td>\n",
       "      <td>0.0</td>\n",
       "      <td>7.07</td>\n",
       "      <td>0</td>\n",
       "      <td>0.469</td>\n",
       "      <td>6.421</td>\n",
       "      <td>78.9</td>\n",
       "      <td>4.9671</td>\n",
       "      <td>2</td>\n",
       "      <td>242</td>\n",
       "      <td>17.8</td>\n",
       "      <td>396.90</td>\n",
       "      <td>9.14</td>\n",
       "      <td>21.6</td>\n",
       "    </tr>\n",
       "    <tr>\n",
       "      <th>2</th>\n",
       "      <td>0.02729</td>\n",
       "      <td>0.0</td>\n",
       "      <td>7.07</td>\n",
       "      <td>0</td>\n",
       "      <td>0.469</td>\n",
       "      <td>7.185</td>\n",
       "      <td>61.1</td>\n",
       "      <td>4.9671</td>\n",
       "      <td>2</td>\n",
       "      <td>242</td>\n",
       "      <td>17.8</td>\n",
       "      <td>392.83</td>\n",
       "      <td>4.03</td>\n",
       "      <td>34.7</td>\n",
       "    </tr>\n",
       "    <tr>\n",
       "      <th>3</th>\n",
       "      <td>0.03237</td>\n",
       "      <td>0.0</td>\n",
       "      <td>2.18</td>\n",
       "      <td>0</td>\n",
       "      <td>0.458</td>\n",
       "      <td>6.998</td>\n",
       "      <td>45.8</td>\n",
       "      <td>6.0622</td>\n",
       "      <td>3</td>\n",
       "      <td>222</td>\n",
       "      <td>18.7</td>\n",
       "      <td>394.63</td>\n",
       "      <td>2.94</td>\n",
       "      <td>33.4</td>\n",
       "    </tr>\n",
       "    <tr>\n",
       "      <th>4</th>\n",
       "      <td>0.06905</td>\n",
       "      <td>0.0</td>\n",
       "      <td>2.18</td>\n",
       "      <td>0</td>\n",
       "      <td>0.458</td>\n",
       "      <td>7.147</td>\n",
       "      <td>54.2</td>\n",
       "      <td>6.0622</td>\n",
       "      <td>3</td>\n",
       "      <td>222</td>\n",
       "      <td>18.7</td>\n",
       "      <td>396.90</td>\n",
       "      <td>5.33</td>\n",
       "      <td>36.2</td>\n",
       "    </tr>\n",
       "  </tbody>\n",
       "</table>\n",
       "</div>"
      ],
      "text/plain": [
       "      crim    zn  indus  chas    nox     rm   age     dis  rad  tax  ptratio  \\\n",
       "0  0.00632  18.0   2.31     0  0.538  6.575  65.2  4.0900    1  296     15.3   \n",
       "1  0.02731   0.0   7.07     0  0.469  6.421  78.9  4.9671    2  242     17.8   \n",
       "2  0.02729   0.0   7.07     0  0.469  7.185  61.1  4.9671    2  242     17.8   \n",
       "3  0.03237   0.0   2.18     0  0.458  6.998  45.8  6.0622    3  222     18.7   \n",
       "4  0.06905   0.0   2.18     0  0.458  7.147  54.2  6.0622    3  222     18.7   \n",
       "\n",
       "        b  lstat  medv  \n",
       "0  396.90   4.98  24.0  \n",
       "1  396.90   9.14  21.6  \n",
       "2  392.83   4.03  34.7  \n",
       "3  394.63   2.94  33.4  \n",
       "4  396.90   5.33  36.2  "
      ]
     },
     "execution_count": 2,
     "metadata": {},
     "output_type": "execute_result"
    }
   ],
   "source": [
    "# your code here\n",
    "boston = pd.read_csv('BostonHousing.txt')\n",
    "boston.head()"
   ]
  },
  {
   "attachments": {},
   "cell_type": "markdown",
   "id": "fc6c7cae-f7f1-4b42-9326-aefec0898cf9",
   "metadata": {},
   "source": [
    "The target variable will be as usual `MEDV`. Use the rest as features."
   ]
  },
  {
   "cell_type": "code",
   "execution_count": 3,
   "id": "5351f2fe-31f7-4c94-97e3-a51f17fcb800",
   "metadata": {},
   "outputs": [],
   "source": [
    "# your code here\n",
    "x, t = boston.values[:, :-1], boston.values[:, -1]\n",
    "\n",
    "x_train, x_temp, t_train, t_temp = train_test_split(x, t, train_size = 0.7)\n",
    "x_valid, x_test, t_valid, t_test = train_test_split(x_temp, t_temp, train_size = 0.5)"
   ]
  },
  {
   "attachments": {},
   "cell_type": "markdown",
   "id": "90b74cb6-7ffb-4373-8df6-afca9358f635",
   "metadata": {},
   "source": [
    "## Exercise 2 -- Optimization Criterion\n",
    "\n",
    "For regression, a simple criterion to optimize is to minimize the sum of squared errors for a given region. This is, for all datapoints in a region with size, we minimize:\n",
    "\n",
    "$$\\sum_{i=1}^N(y_i - \\hat{y})^2$$\n",
    "\n",
    "where $N$ is the number of datapoits in the region and $\\hat{y}$ is the mean value of the region for the target variable. \n",
    "\n",
    "Implement such a function using the description below.\n",
    "\n",
    "Please, don't use an existing implementation, refer to the [book](https://www.statlearning.com/s/ISLRSeventhPrinting.pdf), and if you need help, ask questions!"
   ]
  },
  {
   "cell_type": "code",
   "execution_count": 4,
   "id": "ef07acad-8c45-4750-a12d-81ef01966d85",
   "metadata": {
    "tags": []
   },
   "outputs": [],
   "source": [
    "def regression_criterion(region):\n",
    "    \"\"\"\n",
    "    Implements the sum of squared error criterion in a region\n",
    "    \n",
    "    Parameters\n",
    "    ----------\n",
    "    region : ndarray\n",
    "        Array of shape (N,) containing the values of the target values \n",
    "        for N datapoints in the training set.\n",
    "    \n",
    "    Returns\n",
    "    -------\n",
    "    float\n",
    "        The sum of squared error\n",
    "        \n",
    "    Note\n",
    "    ----\n",
    "    The error for an empty region should be infinity (use: float(\"inf\"))\n",
    "    This avoids creating empty regions\n",
    "    \"\"\"\n",
    "    # your code here\n",
    "    if len(region) == 0: return float(\"inf\")\n",
    "\n",
    "    y_hat = np.mean(region)\n",
    "    sse = np.sum((region-y_hat)**2)\n",
    "    return sse\n"
   ]
  },
  {
   "cell_type": "code",
   "execution_count": 5,
   "id": "fdcc9f1f",
   "metadata": {},
   "outputs": [
    {
     "name": "stdout",
     "output_type": "stream",
     "text": [
      "3.6200679838629544\n",
      "0.0\n",
      "0.0\n",
      "inf\n"
     ]
    }
   ],
   "source": [
    "# test your code\n",
    "rng = np.random.default_rng(0)\n",
    "print(regression_criterion(rng.random(size=40)))\n",
    "print(regression_criterion(np.ones(10)))\n",
    "print(regression_criterion(np.zeros(10)))\n",
    "print(regression_criterion(np.array([])))"
   ]
  },
  {
   "attachments": {},
   "cell_type": "markdown",
   "id": "594ee5c1-a1b9-4507-bd7b-2e94936ee1e6",
   "metadata": {},
   "source": [
    "## Exercise 3 -- Make a split"
   ]
  },
  {
   "cell_type": "code",
   "execution_count": 7,
   "id": "3cb0cfd2-e271-4355-8953-7cd438e75340",
   "metadata": {},
   "outputs": [],
   "source": [
    "def split_region(region, feature_index, tau):\n",
    "    \"\"\"\n",
    "    Given a region, splits it based on the feature indicated by\n",
    "    `feature_index`, the region will be split in two, where\n",
    "    one side will contain all points with the feature with values \n",
    "    lower than `tau`, and the other split will contain the \n",
    "    remaining datapoints.\n",
    "    \n",
    "    Parameters\n",
    "    ----------\n",
    "    region : array of size (n_samples, n_features)\n",
    "        a partition of the dataset (or the full dataset) to be split\n",
    "    feature_index : int\n",
    "        the index of the feature (column of the region array) used to make this partition\n",
    "    tau : float\n",
    "        The threshold used to make this partition\n",
    "        \n",
    "    Return\n",
    "    ------\n",
    "    left_partition : array\n",
    "        indices of the datapoints in `region` where feature < `tau`\n",
    "    right_partition : array\n",
    "        indices of the datapoints in `region` where feature >= `tau` \n",
    "    \"\"\"\n",
    "    # your code here\n",
    "    mask = region[:, feature_index] < tau # here I create a mask that says True for a line where the \"feature_index\" column is lower than \"tau\"\n",
    "\n",
    "    left_partition = np.nonzero(mask)[0]\n",
    "    right_partition = np.nonzero(~mask)[0] # Using the logical inverse of the mask\n",
    "    return left_partition, right_partition"
   ]
  },
  {
   "cell_type": "code",
   "execution_count": 8,
   "id": "58a5d16d-eba9-4b14-9745-156ccbbd91aa",
   "metadata": {
    "tags": []
   },
   "outputs": [
    {
     "name": "stdout",
     "output_type": "stream",
     "text": [
      "(193,) (161,)\n"
     ]
    }
   ],
   "source": [
    "l, r = split_region(x_train, 2, 10)\n",
    "print(l.shape, r.shape)"
   ]
  },
  {
   "attachments": {},
   "cell_type": "markdown",
   "id": "52b9359a-b601-4522-8731-6393500bda73",
   "metadata": {},
   "source": [
    "## Exercise 4 -- Find the best split\n",
    "\n",
    "The strategy is quite simple (as well as inefficient), but it helps to reinforce the concepts.\n",
    "We are going to use a greedy, exhaustive algorithm to select splits, selecting the `feature_index` and the `tau` that minimizes the Regression Criterion"
   ]
  },
  {
   "cell_type": "code",
   "execution_count": 9,
   "id": "079c4a77-27ba-44b8-9ad4-b98c80c9cb8b",
   "metadata": {},
   "outputs": [],
   "source": [
    "def get_split(X, y):\n",
    "    \"\"\"\n",
    "    Given a dataset (full or partial), splits it on the feature of that minimizes the sum of squared error\n",
    "    \n",
    "    Parameters\n",
    "    ----------\n",
    "    X : array (n_samples, n_features)\n",
    "        features \n",
    "    y : array (n_samples, )\n",
    "        labels\n",
    "    \n",
    "    Returns\n",
    "    -------\n",
    "    decision : dictionary\n",
    "        keys are:\n",
    "        * 'feature_index' -> an integer that indicates the feature (column) of `X` on which the data is split\n",
    "        * 'tau' -> the threshold used to make the split\n",
    "        * 'left_region' -> array of indices where the `feature_index`th feature of X is lower than `tau`\n",
    "        * 'right_region' -> indices not in `left_region`\n",
    "    \"\"\"\n",
    "    # your code here\n",
    "    best_error = float(\"inf\")\n",
    "\n",
    "    for col in range(X.shape[1]):\n",
    "        for datapoint in range(X.shape[0]):\n",
    "            tau = X[datapoint, col]\n",
    "            l, r = split_region(X, col, tau)\n",
    "            \n",
    "            l_error = regression_criterion(y[l])\n",
    "            r_error = regression_criterion(y[r])\n",
    "            error = l_error + r_error\n",
    "\n",
    "            if error < best_error:\n",
    "                best_error = error\n",
    "                decision = {\"feature_index\": col, \"tau\": tau, \"left_region\": l, \"right_region\": r}\n",
    "\n",
    "    return decision"
   ]
  },
  {
   "cell_type": "code",
   "execution_count": 10,
   "id": "alpine-oakland",
   "metadata": {
    "tags": []
   },
   "outputs": [
    {
     "data": {
      "text/plain": [
       "{'feature_index': 12,\n",
       " 'tau': 15.02,\n",
       " 'left_region': array([ 0,  1,  2,  3,  4,  5,  7,  8,  9, 14], dtype=int64),\n",
       " 'right_region': array([ 6, 10, 11, 12, 13], dtype=int64)}"
      ]
     },
     "execution_count": 10,
     "metadata": {},
     "output_type": "execute_result"
    }
   ],
   "source": [
    "get_split(x_train[:15, :], t_train[:15])"
   ]
  },
  {
   "cell_type": "code",
   "execution_count": 28,
   "id": "ef04d32a-998a-46b5-abda-c75f6f032de4",
   "metadata": {
    "tags": []
   },
   "outputs": [],
   "source": [
    "# k = 20\n",
    "# test_root = get_split(x_train[:k, :], t_train[:k])\n",
    "# recursive_growth(test_root, 5, 3, 1, x_train[:k, :], t_train[:k])"
   ]
  },
  {
   "attachments": {},
   "cell_type": "markdown",
   "id": "3d096e1f-fddf-4018-8ea9-252cb21de8c7",
   "metadata": {},
   "source": [
    "## Exercise 5 -- Recursive Splitting\n",
    "\n",
    "The test above is an example on how to find the root node of our decision tree. The algorithm now is a greedy search until we reach a stop criterion. To find the actual root node of our decision tree, you must provide the whole training set, not just a slice of 15 rows as the test above.\n",
    "\n",
    "The trivial stopping criterion is to recursively grow the tree until each split contains a single point (perfect node purity). If we go that far, it normally means we are overfitting.\n",
    "\n",
    "You will implement these criteria to stop the growth:\n",
    "\n",
    "* A node is a leaf if:\n",
    "    * It has less than `min_samples` datapoints\n",
    "    * It is at the `max_depth` level from the root (each split creates a new level)\n",
    "    * The criterion is `0`\n",
    "\n"
   ]
  },
  {
   "cell_type": "code",
   "execution_count": 39,
   "id": "89e826c6-cb8b-488c-9eb4-d4b6f2d4e9ee",
   "metadata": {},
   "outputs": [],
   "source": [
    "def recursive_growth(node, min_samples, max_depth, current_depth, criterion, X, y: np.ndarray):\n",
    "    \"\"\"\n",
    "    Recursively grows a decision tree.\n",
    "    \n",
    "    Parameters\n",
    "    ----------\n",
    "    node : dictionary\n",
    "        If the node is terminal, it contains only the \"value\" key, which determines the value to be used as a prediction.\n",
    "        If the node is not terminal, the dictionary has the structure defined by `get_split`\n",
    "    min_samples : int\n",
    "        parameter for stopping criterion if a node has <= min_samples datapoints\n",
    "    max_depth : int\n",
    "        parameter for stopping criterion if a node belongs to this depth\n",
    "    depth : int\n",
    "        current distance from the root\n",
    "    criterion : float\n",
    "        error value to act as stop criterion\n",
    "    X : array (n_samples, n_features)\n",
    "        features (full dataset)\n",
    "    y : array (n_samples, )\n",
    "        labels (full dataset)\n",
    "    \n",
    "    Notes\n",
    "    -----\n",
    "    To create a terminal node, a dictionary is created with a single \"value\" key, with a value that\n",
    "    is the mean of the target variable\n",
    "    \n",
    "    'left' and 'right' keys are added to non-terminal nodes, which contain (possibly terminal) nodes \n",
    "    from higher levels of the tree:\n",
    "    'left' corresponds to the 'left_region' key, and 'right' to the 'right_region' key\n",
    "    \"\"\"\n",
    "    if \"left_region\" in node:\n",
    "        l = node[\"left_region\"]\n",
    "        r = node[\"right_region\"]\n",
    "        \n",
    "        # Process left\n",
    "        if (y[l].size <= min_samples) or (current_depth == max_depth) or (regression_criterion(y[l]) <= criterion):\n",
    "            node[\"left\"] = {\"value\": np.mean(y[l])}\n",
    "        else:\n",
    "            node[\"left\"] = get_split(X[l], y[l])\n",
    "            recursive_growth(node[\"left\"], min_samples, max_depth, current_depth+1, criterion, X, y)   \n",
    "        \n",
    "        # Process right\n",
    "        if (y[r].size <= min_samples) or (current_depth == max_depth) or (regression_criterion(y[r]) <= criterion):\n",
    "            node[\"right\"] = {\"value\": np.mean(y[r])}\n",
    "        else:\n",
    "            node[\"right\"] = get_split(X[r], y[r])\n",
    "            recursive_growth(node[\"right\"], min_samples, max_depth, current_depth+1, criterion, X, y)   \n",
    "        \n",
    "        \n",
    "    # your code here"
   ]
  },
  {
   "cell_type": "code",
   "execution_count": 28,
   "id": "special-alexander",
   "metadata": {
    "tags": []
   },
   "outputs": [],
   "source": [
    "# fill in the gaps with your code\n",
    "min_samples = 25\n",
    "max_depth = 5\n",
    "test_root = get_split(x_train, t_train)\n",
    "recursive_growth(test_root, min_samples, max_depth, 1, 0, x_train, t_train)"
   ]
  },
  {
   "attachments": {},
   "cell_type": "markdown",
   "id": "3a32ee99-9103-4586-8555-ccb905acd4cd",
   "metadata": {},
   "source": [
    "Below we provide code to visualise the generated tree!"
   ]
  },
  {
   "cell_type": "code",
   "execution_count": 29,
   "id": "8022f376-bff9-4455-9650-8ef66ca772da",
   "metadata": {},
   "outputs": [],
   "source": [
    "def print_tree(node, depth):\n",
    "    if 'value' in node.keys():\n",
    "        print('.  '*(depth-1), f\"[{node['value']}]\")\n",
    "    else:\n",
    "        print('.  '*depth, f'X_{node[\"feature_index\"]} < {node[\"tau\"]}')\n",
    "        print_tree(node['left'], depth+1)\n",
    "        print_tree(node['right'], depth+1)\n"
   ]
  },
  {
   "cell_type": "code",
   "execution_count": 30,
   "id": "natural-assignment",
   "metadata": {
    "tags": []
   },
   "outputs": [
    {
     "name": "stdout",
     "output_type": "stream",
     "text": [
      " X_12 < 7.73\n",
      ".   X_5 < 7.454\n",
      ".  .   X_5 < 6.727\n",
      ".  .  .   X_12 < 7.37\n",
      ".  .  .   [24.39473684210526]\n",
      ".  .  .  .   X_12 < 5.08\n",
      ".  .  .  .   [20.483333333333334]\n",
      ".  .  .  .   [22.742105263157896]\n",
      ".  .   [22.094736842105263]\n",
      ".   [24.666666666666668]\n",
      ".   X_12 < 15.02\n",
      ".  .   X_12 < 7.83\n",
      ".  .  .   X_12 < 8.79\n",
      ".  .  .   [23.60909090909091]\n",
      ".  .  .   [20.895652173913046]\n",
      ".  .  .   X_12 < 7.6\n",
      ".  .  .  .   X_5 < 6.782\n",
      ".  .  .  .   [21.349999999999998]\n",
      ".  .  .  .   [22.79]\n",
      ".  .  .  .   X_12 < 5.52\n",
      ".  .  .  .   [24.369230769230775]\n",
      ".  .  .  .   [21.96842105263158]\n",
      ".  .   X_12 < 9.64\n",
      ".  .  .   X_12 < 7.37\n",
      ".  .  .   [21.366666666666664]\n",
      ".  .  .  .   X_5 < 6.482\n",
      ".  .  .  .   [23.536000000000005]\n",
      ".  .  .  .   [17.44]\n",
      ".  .  .   X_5 < 6.727\n",
      ".  .  .  .   X_12 < 11.98\n",
      ".  .  .  .   [22.774074074074072]\n",
      ".  .  .  .   [21.96842105263158]\n",
      ".  .  .   [21.023529411764706]\n"
     ]
    }
   ],
   "source": [
    "print_tree(test_root, 0)"
   ]
  },
  {
   "attachments": {},
   "cell_type": "markdown",
   "id": "c1e063e7-58f5-4278-86fb-4096c29a32e7",
   "metadata": {},
   "source": [
    "# Exercise 6 -- Make a Prediction\n",
    "Use the a node to predict the class of a compatible dataset"
   ]
  },
  {
   "cell_type": "code",
   "execution_count": 35,
   "id": "bb6db1b9-7fb1-4949-8a31-a0eb7364d0ec",
   "metadata": {},
   "outputs": [],
   "source": [
    "def predict_sample(node, sample):\n",
    "    \"\"\"\n",
    "    Makes a prediction based on the decision tree defined by `node`\n",
    "    \n",
    "    Parameters\n",
    "    ----------\n",
    "    node : dictionary\n",
    "        A node created by one of the methods above\n",
    "    sample : array of size (n_features,)\n",
    "        a sample datapoint\n",
    "    \"\"\"\n",
    "    if \"value\" in node.keys():\n",
    "        return node[\"value\"]\n",
    "    \n",
    "    if sample[node[\"feature_index\"]] < node[\"tau\"]:\n",
    "        return predict_sample(node[\"left\"], sample)\n",
    "    \n",
    "    return predict_sample(node[\"right\"], sample)\n",
    "    # your code here\n",
    "        \n",
    "def predict(node, X):\n",
    "    \"\"\"\n",
    "    Makes a prediction based on the decision tree defined by `node`\n",
    "    \n",
    "    Parameters\n",
    "    ----------\n",
    "    node : dictionary\n",
    "        A node created one of the methods above\n",
    "    X : array of size (n_samples, n_features)\n",
    "        n_samples predictions will be made\n",
    "    \"\"\"\n",
    "    # your code here\n",
    "    prediction = []\n",
    "    for datapoint in X:\n",
    "        prediction.append(predict_sample(node, datapoint))\n",
    "    \n",
    "    return np.array(prediction)"
   ]
  },
  {
   "attachments": {},
   "cell_type": "markdown",
   "id": "0660e974-11cf-4e0a-b402-a8f2ed3978c2",
   "metadata": {},
   "source": [
    "Now use the functions defined above to calculate the RMSE of the validation set. \n",
    "* Try first with `min_samples=20` and `max_depth=6` (for this values you should get a validation RMSE of ~8.8)\n",
    "\n",
    "Then, experiment with different values for the stopping criteria."
   ]
  },
  {
   "cell_type": "code",
   "execution_count": 41,
   "id": "617efc94",
   "metadata": {},
   "outputs": [],
   "source": [
    "def RMSE(predict, target):\n",
    "    return np.sqrt(np.mean((predict - target)**2))"
   ]
  },
  {
   "cell_type": "code",
   "execution_count": 42,
   "id": "3d9526e9-b82f-4783-b7e0-762fc87d68bf",
   "metadata": {},
   "outputs": [
    {
     "name": "stdout",
     "output_type": "stream",
     "text": [
      "Validation RMSE = 8.798453111133783\n"
     ]
    }
   ],
   "source": [
    "# your code here\n",
    "root = get_split(x_train, t_train)\n",
    "recursive_growth(root, 20, 6, 1, 0, x_train, t_train)\n",
    "\n",
    "y_predict = predict(root, x_valid)\n",
    "\n",
    "print(\"Validation RMSE =\", RMSE(y_predict, t_valid))"
   ]
  },
  {
   "cell_type": "code",
   "execution_count": 74,
   "id": "138a40e5",
   "metadata": {},
   "outputs": [],
   "source": [
    "# To change the heatmap, just change the values of the ranges:\n",
    "min_samples = range(0, 151, 10)\n",
    "max_depth = range(1, 16)\n",
    "\n",
    "data = np.zeros((len(min_samples), len(max_depth)))\n",
    "\n",
    "for samp in range(len(min_samples)):\n",
    "    for dep in range(len(max_depth)):\n",
    "        recursive_growth(root, min_samples[samp], max_depth[dep], 1, 0, x_train, t_train)\n",
    "        y_predict = predict(root, x_valid)\n",
    "        data[samp,dep] = RMSE(y_predict, t_valid)\n",
    "\n",
    "plot_df0 = pd.DataFrame(data, min_samples, max_depth)"
   ]
  },
  {
   "cell_type": "code",
   "execution_count": 75,
   "id": "4189cff1",
   "metadata": {},
   "outputs": [
    {
     "data": {
      "text/plain": [
       "[Text(50.722222222222214, 0.5, 'Minimum Samples'),\n",
       " Text(0.5, 23.52222222222222, 'Max Depth')]"
      ]
     },
     "execution_count": 75,
     "metadata": {},
     "output_type": "execute_result"
    },
    {
     "data": {
      "image/png": "[encoded data removed]",
      "text/plain": [
       "<Figure size 640x480 with 2 Axes>"
      ]
     },
     "metadata": {},
     "output_type": "display_data"
    }
   ],
   "source": [
    "import seaborn as sns\n",
    "ax = sns.heatmap(plot_df0, annot=True)\n",
    "ax.xaxis.tick_top()\n",
    "ax.set(ylabel=\"Minimum Samples\", xlabel=\"Max Depth\")"
   ]
  }
 ],
 "metadata": {
  "kernelspec": {
   "display_name": "Python 3 (ipykernel)",
   "language": "python",
   "name": "python3"
  },
  "language_info": {
   "codemirror_mode": {
    "name": "ipython",
    "version": 3
   },
   "file_extension": ".py",
   "mimetype": "text/x-python",
   "name": "python",
   "nbconvert_exporter": "python",
   "pygments_lexer": "ipython3",
   "version": "3.10.11"
  }
 },
 "nbformat": 4,
 "nbformat_minor": 5
}
